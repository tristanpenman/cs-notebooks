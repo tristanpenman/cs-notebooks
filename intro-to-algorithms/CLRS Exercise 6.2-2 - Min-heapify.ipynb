{
 "metadata": {
  "name": ""
 },
 "nbformat": 3,
 "nbformat_minor": 0,
 "worksheets": [
  {
   "cells": [
    {
     "cell_type": "markdown",
     "metadata": {},
     "source": [
      "CLRS Exercise 6.2-2\n",
      "-------------------\n",
      "\n",
      "Starting with the procedure MAX-HEAPIFY, write pseudocode for the procedure MIN-HEAPIFY(A, i), which performs the corresponding manipulation on a min-heap. How does the running time of MIN-HEAPIFY compare to that of MAX-HEAPIFY?\n",
      "\n",
      "**Definition of the MAX-HEAPIFY and BUILD-MAX-HEAP algorithms from Chapter 6:**"
     ]
    },
    {
     "cell_type": "code",
     "collapsed": false,
     "input": [
      "from math import floor\n",
      "\n",
      "def left(i):\n",
      "    return 2 * i + 1\n",
      "\n",
      "def right(i):\n",
      "    return 2 * i + 2\n",
      "\n",
      "def max_heapify(A, heap_size, i):\n",
      "    l = left(i)\n",
      "    r = right(i)\n",
      "    largest = i\n",
      "    if l < heap_size and A[l] > A[i]:\n",
      "        largest = l\n",
      "    if r < heap_size and A[r] > A[largest]:\n",
      "        largest = r\n",
      "    if largest != i:\n",
      "        t = A[largest]\n",
      "        A[largest] = A[i]\n",
      "        A[i] = t\n",
      "        max_heapify(A, heap_size, largest)\n",
      "        \n",
      "def build_max_heap(A):\n",
      "    heap_size = len(A)\n",
      "    for i in range(floor(heap_size / 2), -1, -1):\n",
      "        max_heapify(A, heap_size, i)"
     ],
     "language": "python",
     "metadata": {},
     "outputs": [],
     "prompt_number": 59
    },
    {
     "cell_type": "markdown",
     "metadata": {},
     "source": [
      "**Sanity check for build_max_heap:**"
     ]
    },
    {
     "cell_type": "code",
     "collapsed": false,
     "input": [
      "A = [2, 5, 10, 3, 4]\n",
      "build_max_heap(A)\n",
      "A == [10, 5, 2, 3, 4]"
     ],
     "language": "python",
     "metadata": {},
     "outputs": [
      {
       "metadata": {},
       "output_type": "pyout",
       "prompt_number": 62,
       "text": [
        "True"
       ]
      }
     ],
     "prompt_number": 62
    },
    {
     "cell_type": "markdown",
     "metadata": {},
     "source": [
      "**Definition of MIN-HEAPIFY and BUILD-MIN-HEAP:**"
     ]
    },
    {
     "cell_type": "code",
     "collapsed": false,
     "input": [
      "def min_heapify(A, heap_size, i):\n",
      "    l = left(i)\n",
      "    r = right(i)\n",
      "    largest = i\n",
      "    if l < heap_size and A[l] < A[i]:\n",
      "        largest = l\n",
      "    if r < heap_size and A[r] < A[largest]:\n",
      "        largest = r\n",
      "    if largest != i:\n",
      "        t = A[largest]\n",
      "        A[largest] = A[i]\n",
      "        A[i] = t\n",
      "        max_heapify(A, heap_size, largest)\n",
      "        \n",
      "def build_min_heap(A):\n",
      "    heap_size = len(A)\n",
      "    for i in range(floor(heap_size / 2), -1, -1):\n",
      "        min_heapify(A, heap_size, i)        "
     ],
     "language": "python",
     "metadata": {},
     "outputs": [],
     "prompt_number": 66
    },
    {
     "cell_type": "markdown",
     "metadata": {},
     "source": [
      "**Sanity check:**"
     ]
    },
    {
     "cell_type": "code",
     "collapsed": false,
     "input": [
      "A = [2, 5, 10, 3, 4]\n",
      "build_min_heap(A)\n",
      "A == [2, 3, 10, 5, 4]"
     ],
     "language": "python",
     "metadata": {},
     "outputs": [
      {
       "metadata": {},
       "output_type": "pyout",
       "prompt_number": 68,
       "text": [
        "True"
       ]
      }
     ],
     "prompt_number": 68
    },
    {
     "cell_type": "markdown",
     "metadata": {},
     "source": [
      "**Comparison of running times:**\n",
      "\n",
      "MIN-HEAPIFY will have the same running time as MAX-HEAPIFY, as both orderings are essentially arbitrary.\n"
     ]
    }
   ],
   "metadata": {}
  }
 ]
}