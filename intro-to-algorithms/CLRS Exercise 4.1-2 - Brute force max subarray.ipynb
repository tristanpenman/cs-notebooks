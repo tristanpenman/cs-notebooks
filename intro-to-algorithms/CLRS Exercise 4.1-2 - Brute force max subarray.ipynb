{
 "metadata": {
  "name": ""
 },
 "nbformat": 3,
 "nbformat_minor": 0,
 "worksheets": [
  {
   "cells": [
    {
     "cell_type": "markdown",
     "metadata": {},
     "source": [
      "CLRS Exercise 4.1-2\n",
      "-------------------\n",
      "\n",
      "Write pseudocode for the brute-force method of solving the maximum-subarray problem. Your procedure should run in $\\theta(n^2)$ time.\n",
      "\n",
      "**Implementation:**"
     ]
    },
    {
     "cell_type": "code",
     "collapsed": false,
     "input": [
      "def brute_force_max_subarray(A, first, last):\n",
      "    best_first = None\n",
      "    best_last = None\n",
      "    best_sum = None\n",
      "    for i in range(first, last + 1):\n",
      "        sum = 0\n",
      "        for j in range(i, last + 1):\n",
      "            sum = sum + A[j]\n",
      "            if best_sum is None or sum > best_sum:\n",
      "                best_first = i\n",
      "                best_last = j\n",
      "                best_sum = sum\n",
      "    return {'first': best_first, 'last': best_last, 'sum': best_sum}\n"
     ],
     "language": "python",
     "metadata": {},
     "outputs": [],
     "prompt_number": 24
    },
    {
     "cell_type": "markdown",
     "metadata": {},
     "source": [
      "**Test data:**"
     ]
    },
    {
     "cell_type": "code",
     "collapsed": false,
     "input": [
      "A = [2, -1, 3, 4, -2, 6, 3, -1, -14, -2, 10, 1, 20, 3, -3, -4, 3]"
     ],
     "language": "python",
     "metadata": {},
     "outputs": [],
     "prompt_number": 25
    },
    {
     "cell_type": "code",
     "collapsed": false,
     "input": [
      "brute_force_max_subarray(A, 0, len(A) - 1)"
     ],
     "language": "python",
     "metadata": {},
     "outputs": [
      {
       "metadata": {},
       "output_type": "pyout",
       "prompt_number": 26,
       "text": [
        "{'first': 10, 'last': 13, 'sum': 34}"
       ]
      }
     ],
     "prompt_number": 26
    },
    {
     "cell_type": "markdown",
     "metadata": {},
     "source": [
      "**And another test case:**\n",
      "    \n",
      "This particular test case revealed a bug in my initial implementation, where the inner loop failed to identify maximum subarrays containing just one element."
     ]
    },
    {
     "cell_type": "code",
     "collapsed": false,
     "input": [
      "B = [-1, 34]"
     ],
     "language": "python",
     "metadata": {},
     "outputs": [],
     "prompt_number": 27
    },
    {
     "cell_type": "code",
     "collapsed": false,
     "input": [
      "brute_force_max_subarray(B, 0, len(B) - 1)"
     ],
     "language": "python",
     "metadata": {},
     "outputs": [
      {
       "metadata": {},
       "output_type": "pyout",
       "prompt_number": 28,
       "text": [
        "{'first': 1, 'last': 1, 'sum': 34}"
       ]
      }
     ],
     "prompt_number": 28
    }
   ],
   "metadata": {}
  }
 ]
}