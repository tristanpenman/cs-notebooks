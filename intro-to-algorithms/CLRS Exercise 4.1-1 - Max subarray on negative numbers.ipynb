{
 "metadata": {
  "name": ""
 },
 "nbformat": 3,
 "nbformat_minor": 0,
 "worksheets": [
  {
   "cells": [
    {
     "cell_type": "markdown",
     "metadata": {},
     "source": [
      "CLRS Exercise 4.1-1\n",
      "-------------------\n",
      "\n",
      "What does FIND-MAXIMUM-SUBARRAY return when all elements of A are negative?\n",
      "\n",
      "**My answer:**\n",
      "\n",
      "My intuition is that it will return the element in the array A that is closest to zero.\n",
      "\n",
      "This can be verified by implementing the algorithm:"
     ]
    },
    {
     "cell_type": "code",
     "collapsed": false,
     "input": [
      "from math import floor\n",
      "\n",
      "def find_max_crossover_subarray(A, first, mid, last):\n",
      "    left_index = -1\n",
      "    left_maxsum = None\n",
      "    left_sum = 0\n",
      "    for i in range(mid, -1, -1):\n",
      "        left_sum = left_sum + A[i]\n",
      "        if left_maxsum == None or left_maxsum < left_sum:\n",
      "            left_maxsum = left_sum\n",
      "            left_index = i\n",
      "    right_index = -1\n",
      "    right_maxsum = None\n",
      "    right_sum = 0\n",
      "    for i in range(mid + 1, last + 1):\n",
      "        right_sum = right_sum + A[i]\n",
      "        if right_maxsum == None or right_maxsum < right_sum:\n",
      "            right_maxsum = right_sum\n",
      "            right_index = i\n",
      "    return {'first': left_index, 'last': right_index, 'sum': left_maxsum + right_maxsum}\n",
      "        \n",
      "\n",
      "def find_max_subarray(A, first, last):\n",
      "    if first == last:\n",
      "        return {'first': first, 'last': last, 'sum': A[first]}\n",
      "    else:\n",
      "        mid = floor((first + last) / 2)\n",
      "        L = find_max_subarray(A, first, mid)\n",
      "        R = find_max_subarray(A, mid + 1, last)\n",
      "        C = find_max_crossover_subarray(A, first, mid, last)\n",
      "        if L['sum'] >= R['sum'] and L['sum'] >= C['sum']:\n",
      "            return L\n",
      "        elif R['sum'] >= L['sum'] and R['sum'] >= C['sum']:\n",
      "            return R\n",
      "        else:\n",
      "            return C\n",
      "        \n",
      "    "
     ],
     "language": "python",
     "metadata": {},
     "outputs": [],
     "prompt_number": 36
    },
    {
     "cell_type": "markdown",
     "metadata": {},
     "source": [
      "Check that the algorithm works on an array containing both positive and negative numbers:"
     ]
    },
    {
     "cell_type": "code",
     "collapsed": false,
     "input": [
      "A = [2, -1, 3, 4, -2, 6, 3, -1, -14, -2, 10, 1, 20, 3, -3, -4, 3]"
     ],
     "language": "python",
     "metadata": {},
     "outputs": [],
     "prompt_number": 49
    },
    {
     "cell_type": "code",
     "collapsed": false,
     "input": [
      "find_max_subarray(A, 0, len(A) - 1)"
     ],
     "language": "python",
     "metadata": {},
     "outputs": [
      {
       "metadata": {},
       "output_type": "pyout",
       "prompt_number": 50,
       "text": [
        "{'first': 10, 'last': 13, 'sum': 34}"
       ]
      }
     ],
     "prompt_number": 50
    },
    {
     "cell_type": "markdown",
     "metadata": {},
     "source": [
      "Check that the algorithm returns the array indices for the number closest to 0 in the array:"
     ]
    },
    {
     "cell_type": "code",
     "collapsed": false,
     "input": [
      "A = [-3, -4, -5, -2, -12, -5, -2, -1]"
     ],
     "language": "python",
     "metadata": {},
     "outputs": [],
     "prompt_number": 53
    },
    {
     "cell_type": "code",
     "collapsed": false,
     "input": [
      "find_max_subarray(A, 0, len(A) - 1)"
     ],
     "language": "python",
     "metadata": {},
     "outputs": [
      {
       "metadata": {},
       "output_type": "pyout",
       "prompt_number": 54,
       "text": [
        "{'first': 7, 'last': 7, 'sum': -1}"
       ]
      }
     ],
     "prompt_number": 54
    }
   ],
   "metadata": {}
  }
 ]
}