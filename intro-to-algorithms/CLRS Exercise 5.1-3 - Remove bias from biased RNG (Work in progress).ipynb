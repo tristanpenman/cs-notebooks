{
 "metadata": {
  "name": ""
 },
 "nbformat": 3,
 "nbformat_minor": 0,
 "worksheets": [
  {
   "cells": [
    {
     "cell_type": "markdown",
     "metadata": {},
     "source": [
      "CLRS Exercise 5.1-3\n",
      "-------------------\n",
      "\n",
      "Suppose that you want to output 0 with probability 1/2 and 1 with probability 1/2. At your disposal is a procedure BIASED-RANDOM, that outputs either 0 or 1. It outputs 1 with some probability p and 0 with probability 1 - p, where 0 < p < 1, but you do not know what p is. Give an algorithm that uses BIASED-RANDOM as a subroutine, and returns an unbiased answer, returning 0 with probability 1/2 and 1 with probability 1/2. What is the expected running time of your algorithm as a function of p?\n",
      "\n",
      "**We will start by defining the biased_random function:**"
     ]
    },
    {
     "cell_type": "code",
     "collapsed": false,
     "input": [
      "from random import uniform\n",
      "\n",
      "def biased_random(p):\n",
      "    if uniform(0, 1) <= p:\n",
      "        return 0\n",
      "    else:\n",
      "        return 1"
     ],
     "language": "python",
     "metadata": {},
     "outputs": [],
     "prompt_number": 84
    },
    {
     "cell_type": "markdown",
     "metadata": {},
     "source": [
      "Make sure the function is as biased as we want it to be:"
     ]
    },
    {
     "cell_type": "code",
     "collapsed": false,
     "input": [
      "tally = [0, 0]\n",
      "for i in range(0, 1000):\n",
      "    tally[biased_random(0.75)] += 1"
     ],
     "language": "python",
     "metadata": {},
     "outputs": [],
     "prompt_number": 85
    },
    {
     "cell_type": "markdown",
     "metadata": {},
     "source": [
      "The results should be approximately [250, 750]:"
     ]
    },
    {
     "cell_type": "code",
     "collapsed": false,
     "input": [
      "print(tally)"
     ],
     "language": "python",
     "metadata": {},
     "outputs": [
      {
       "output_type": "stream",
       "stream": "stdout",
       "text": [
        "[745, 255]\n"
       ]
      }
     ],
     "prompt_number": 86
    },
    {
     "cell_type": "markdown",
     "metadata": {},
     "source": [
      "**Now we can define the unbiased_random function, that depends on biased_random.**\n",
      "\n",
      "This function exploits the fact that $pr(0,1) = pr(1,0)$. The biased_random function is called twice, to yield two random numbers. If the values are both 1 or both 0, then they will be discarded and the draw will be repeated. Otherwise, the value of the first draw will be returned. "
     ]
    },
    {
     "cell_type": "code",
     "collapsed": false,
     "input": [
      "from random import randint\n",
      "\n",
      "def unbiased_random(bias):\n",
      "    a = 0\n",
      "    b = 0\n",
      "    while a == b:\n",
      "        a = biased_random(bias)\n",
      "        b = biased_random(bias)\n",
      "    return a"
     ],
     "language": "python",
     "metadata": {},
     "outputs": [],
     "prompt_number": 90
    },
    {
     "cell_type": "markdown",
     "metadata": {},
     "source": [
      "Make sure the function is as UN-biased as we want it to be:"
     ]
    },
    {
     "cell_type": "code",
     "collapsed": false,
     "input": [
      "tally = [0, 0]\n",
      "for i in range(0, 1000):\n",
      "    tally[unbiased_random(0.23)] += 1"
     ],
     "language": "python",
     "metadata": {},
     "outputs": [],
     "prompt_number": 91
    },
    {
     "cell_type": "markdown",
     "metadata": {},
     "source": [
      "The results should be approximately [500, 500]:"
     ]
    },
    {
     "cell_type": "code",
     "collapsed": false,
     "input": [
      "print(tally)"
     ],
     "language": "python",
     "metadata": {},
     "outputs": [
      {
       "output_type": "stream",
       "stream": "stdout",
       "text": [
        "[483, 517]\n"
       ]
      }
     ],
     "prompt_number": 92
    },
    {
     "cell_type": "markdown",
     "metadata": {},
     "source": [
      "**What is the expected running time in terms of p?**\n",
      "\n",
      "- Needs to account for repetitions due to 0,0 or 1,1 results, which will likely depend on p. "
     ]
    }
   ],
   "metadata": {}
  }
 ]
}