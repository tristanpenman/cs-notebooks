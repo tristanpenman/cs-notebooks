{
 "metadata": {
  "name": ""
 },
 "nbformat": 3,
 "nbformat_minor": 0,
 "worksheets": [
  {
   "cells": [
    {
     "cell_type": "markdown",
     "metadata": {},
     "source": [
      "CLRS Exercise 1.2-2\n",
      "-------------------\n",
      "    \n",
      "Suppose we are comparing implementations of insertion sort and merge sort on the same machine. For inputs of size n, insertion sort runs in $8n^2$ steps, while merge sort runs in $64n\\ lg\\ n$ steps. For which values of n does insertion sort beat merge sort?\n",
      "\n",
      "Note that where $lg$ is used, the base-2 logarithm is assumed, and where $ln$ is used the natural logarithm is assumed."
     ]
    },
    {
     "cell_type": "markdown",
     "metadata": {},
     "source": [
      "** Analytical solution: **\n",
      "\n",
      "I was able to get this far:\n",
      "\n",
      "\\begin{aligned}\n",
      "64n\\ lg\\ n & = 8n^2 \\\\\n",
      "n\\ lg\\ n & = 1/8\\ n^2 \\\\\n",
      "lg\\ n & = 1/8\\ n \\\\\n",
      "2^{lg\\ n} & = 2^{1/8\\ n} \\\\\n",
      "n & = 2^{1/8\\ n}\n",
      "\\end{aligned}\n",
      "\n",
      "At this point I wasn't sure how to manipulate the equation so that there was a single $n$ term remaining. I was able to find a solution at http://math.stackexchange.com/questions/110868/how-can-i-solve-8n2-64n-log-2n which used a function called the Lambert W Function to proceed from this point:\n",
      "\n",
      "Substitute: $\\frac18n = t$, so:\n",
      "\n",
      "\\begin{aligned}\n",
      "2^t & = 8t \\\\\n",
      "1 & = \\frac{8t}{2^t} \\\\\n",
      "1 & = 8t \\cdot e^{-t\\ ln\\ 2} \\\\\n",
      "\\frac18 & = t \\cdot e^{-t\\ ln\\ 2} \\\\\n",
      "-\\frac{ln\\ 2}8 & = (-t \\cdot ln\\ 2) \\cdot e^{-t\\ ln\\ 2} \\\\\n",
      "\\end{aligned}\n",
      "\n",
      "Unfortunately, I have not been able to make sense of the manipulations that make use of the Lambert W function:\n",
      "\n",
      "\\begin{aligned}\n",
      "W(\\frac{-ln\\ 2}8) & = -t \\cdot ln\\ 2 \\\\\n",
      "t & = \\frac{-W(\\frac{-ln\\ 2}8)}{ln\\ 2}\n",
      "\\end{aligned}\n",
      "\n",
      "Substituting $\\frac18n$ for $t$ yields:\n",
      "\n",
      "\\begin{aligned}\n",
      "n = -8 \\cdot \\frac{W(\\frac{-ln\\ 2}8)}{ln\\ 2}\n",
      "\\end{aligned}\n",
      "\n",
      "Although I don't understand the last steps in reaching the solution, I can calculate the answer using Python:"
     ]
    },
    {
     "cell_type": "code",
     "collapsed": false,
     "input": [
      "from scipy.special import lambertw  # Make sure scipy is available\n",
      "from numpy import e\n",
      "from math import log, floor, ceil"
     ],
     "language": "python",
     "metadata": {},
     "outputs": [],
     "prompt_number": 48
    },
    {
     "cell_type": "markdown",
     "metadata": {},
     "source": [
      "The lambertw function must be evaluated at branch $0$ (which is called the principal solution according to the scipy documentation) and branch $-1$. The documentation also mentions that if lambertw is defined as lambertw(z), then branch 0 is real for real $z > -1/e$ and branch -1 is real for $-1/e < z < 0$. We can use this fact to check that the solution will be real:"
     ]
    },
    {
     "cell_type": "code",
     "collapsed": false,
     "input": [
      "# Check that branch 0 of lambertw is real\n",
      "-log(2)/8 > -1/e"
     ],
     "language": "python",
     "metadata": {},
     "outputs": [
      {
       "metadata": {},
       "output_type": "pyout",
       "prompt_number": 49,
       "text": [
        "True"
       ]
      }
     ],
     "prompt_number": 49
    },
    {
     "cell_type": "code",
     "collapsed": false,
     "input": [
      "# Check that branch -1 of lambertw is real\n",
      "z = -log(2)/8\n",
      "z < 0 and z > -1/e"
     ],
     "language": "python",
     "metadata": {},
     "outputs": [
      {
       "metadata": {},
       "output_type": "pyout",
       "prompt_number": 50,
       "text": [
        "True"
       ]
      }
     ],
     "prompt_number": 50
    },
    {
     "cell_type": "code",
     "collapsed": false,
     "input": [
      "[ceil((-8 * lambertw(-log(2)/8,  0) / log(2)).real), \n",
      " floor((-8 * lambertw(-log(2)/8, -1) / log(2)).real)]"
     ],
     "language": "python",
     "metadata": {},
     "outputs": [
      {
       "metadata": {},
       "output_type": "pyout",
       "prompt_number": 51,
       "text": [
        "[2, 43]"
       ]
      }
     ],
     "prompt_number": 51
    },
    {
     "cell_type": "markdown",
     "metadata": {},
     "source": [
      "** I would like to learn a bit more about how the Lambert W function works, as the workings of the branch argument are a bit of a mystery to me... **"
     ]
    },
    {
     "cell_type": "markdown",
     "metadata": {},
     "source": [
      "Since the analytical solution above produces just two intersection points, we can check which algorithm runs faster in this interval by comparing the running time of each algorithm for a value of $n$ in the interval:"
     ]
    },
    {
     "cell_type": "code",
     "collapsed": false,
     "input": [
      "# Sample value\n",
      "n = 6\n",
      "\n",
      "# Compare running times, expected result is true, which implies that\n",
      "# insertion sort will be faster when n is in the interval [2, 43]\n",
      "(64 * n * log(n, 2)) > (8 * n * n)"
     ],
     "language": "python",
     "metadata": {},
     "outputs": [
      {
       "metadata": {},
       "output_type": "pyout",
       "prompt_number": 52,
       "text": [
        "True"
       ]
      }
     ],
     "prompt_number": 52
    },
    {
     "cell_type": "markdown",
     "metadata": {},
     "source": [
      "And we should also check a value outside the interval, to verify the result:"
     ]
    },
    {
     "cell_type": "code",
     "collapsed": false,
     "input": [
      "# Sample value\n",
      "n = 44\n",
      "\n",
      "# Compare running times, expected result is false, which implies that\n",
      "# merge sort will be faster when n is not in the interval [2, 43]\n",
      "(64 * n * log(n, 2)) > (8 * n * n)"
     ],
     "language": "python",
     "metadata": {},
     "outputs": [
      {
       "metadata": {},
       "output_type": "pyout",
       "prompt_number": 53,
       "text": [
        "False"
       ]
      }
     ],
     "prompt_number": 53
    },
    {
     "cell_type": "markdown",
     "metadata": {},
     "source": [
      "Therefore, when operating on inputs of size $2 \\le n \\le 43$, insertion sort will run faster than merge sort. "
     ]
    },
    {
     "cell_type": "code",
     "collapsed": false,
     "input": [],
     "language": "python",
     "metadata": {},
     "outputs": []
    }
   ],
   "metadata": {}
  }
 ]
}