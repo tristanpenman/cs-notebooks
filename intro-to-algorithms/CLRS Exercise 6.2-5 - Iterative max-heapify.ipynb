{
 "metadata": {
  "name": ""
 },
 "nbformat": 3,
 "nbformat_minor": 0,
 "worksheets": [
  {
   "cells": [
    {
     "cell_type": "markdown",
     "metadata": {},
     "source": [
      "CLRS Exercise 6.2-5\n",
      "-------------------\n",
      "\n",
      "The code for MAX-HEAPIFY is quite efficient in terms of constant factors, except possibly for the recursive call in line 10, which might cause some compilers to produce inefficient code. Write an efficient MAX-HEAPIFY that uses an iterative control construct (a loop) instead of recursion."
     ]
    },
    {
     "cell_type": "markdown",
     "metadata": {},
     "source": [
      "**This only requires some minor changes to the implementation of max_heapify from exercise 6.2-2:**"
     ]
    },
    {
     "cell_type": "code",
     "collapsed": false,
     "input": [
      "from math import floor\n",
      "\n",
      "def left(i):\n",
      "    return 2 * i + 1\n",
      "\n",
      "def right(i):\n",
      "    return 2 * i + 2\n",
      "\n",
      "def iterative_max_heapify(A, heap_size, i):\n",
      "    while True:\n",
      "        l = left(i)\n",
      "        r = right(i)\n",
      "        largest = i\n",
      "        if l < heap_size and A[l] > A[i]:\n",
      "            largest = l\n",
      "        if r < heap_size and A[r] > A[largest]:\n",
      "            largest = r\n",
      "        if largest == i:\n",
      "            break\n",
      "        t = A[largest]\n",
      "        A[largest] = A[i]\n",
      "        A[i] = t\n",
      "        i = largest\n",
      "        \n",
      "def build_max_heap(A):\n",
      "    heap_size = len(A)\n",
      "    for i in range(floor(heap_size / 2), -1, -1):\n",
      "        iterative_max_heapify(A, heap_size, i)"
     ],
     "language": "python",
     "metadata": {},
     "outputs": [],
     "prompt_number": 1
    },
    {
     "cell_type": "markdown",
     "metadata": {},
     "source": [
      "**Sanity check:**"
     ]
    },
    {
     "cell_type": "code",
     "collapsed": false,
     "input": [
      "A = [2, 5, 10, 3, 4]\n",
      "build_max_heap(A)\n",
      "A == [10, 5, 2, 3, 4]"
     ],
     "language": "python",
     "metadata": {},
     "outputs": [
      {
       "metadata": {},
       "output_type": "pyout",
       "prompt_number": 2,
       "text": [
        "True"
       ]
      }
     ],
     "prompt_number": 2
    }
   ],
   "metadata": {}
  }
 ]
}