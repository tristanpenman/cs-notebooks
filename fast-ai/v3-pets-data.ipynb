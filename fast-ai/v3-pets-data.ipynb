{
 "cells": [
  {
   "cell_type": "markdown",
   "metadata": {},
   "source": [
    "# Prepare training, test, and validation sets for the pets dataset\n",
    "\n",
    "## Overview\n",
    "\n",
    "This notebook assumes that there will be a data directory called **data/pets**, relative to the current directory, that contains two files that were previously downloaded from the [Oxford-IIIT Pet Dataset](http://www.robots.ox.ac.uk/~vgg/data/pets/):\n",
    "\n",
    "* **annotations.tar.gz**\n",
    "* **images.tar.gz**\n",
    "\n",
    "These will be moved to a new directory **data/pets/pristine**, before being extracted. At the end of this notebook, your data directory should contain another two sub-directories:\n",
    "\n",
    "* **data/pets/full**\n",
    "* **data/pets/sample**\n",
    "\n",
    "The **full** sub-directory contains the full dataset, with images separated according to label. The **sample** sub-directory contains a subset of this data that allows for faster training while initially developing a model."
   ]
  },
  {
   "cell_type": "markdown",
   "metadata": {},
   "source": [
    "## Processing"
   ]
  },
  {
   "cell_type": "code",
   "execution_count": null,
   "metadata": {},
   "outputs": [],
   "source": [
    "import glob, os, random, re, shutil, sys, tarfile\n",
    "import numpy as np\n",
    "\n",
    "from PIL import Image"
   ]
  },
  {
   "cell_type": "markdown",
   "metadata": {},
   "source": [
    "We seed the random number generator so that sample generation is deterministic:"
   ]
  },
  {
   "cell_type": "code",
   "execution_count": null,
   "metadata": {},
   "outputs": [],
   "source": [
    "seed = random.randrange(sys.maxsize)\n",
    "rng = random.Random(seed)\n",
    "print(\"Random seed:\", seed)"
   ]
  },
  {
   "cell_type": "markdown",
   "metadata": {},
   "source": [
    "Generate path for data directory:"
   ]
  },
  {
   "cell_type": "code",
   "execution_count": null,
   "metadata": {},
   "outputs": [],
   "source": [
    "data_dir = os.path.join(os.getcwd(), 'data', 'pets')\n",
    "print(\"Data directory:\", data_dir)"
   ]
  },
  {
   "cell_type": "markdown",
   "metadata": {},
   "source": [
    "Create directory structure:"
   ]
  },
  {
   "cell_type": "code",
   "execution_count": null,
   "metadata": {},
   "outputs": [],
   "source": [
    "%mkdir -p {data_dir}/full/test\n",
    "%mkdir -p {data_dir}/full/train\n",
    "%mkdir -p {data_dir}/full/valid\n",
    "%mkdir -p {data_dir}/pristine\n",
    "%mkdir -p {data_dir}/sample"
   ]
  },
  {
   "cell_type": "markdown",
   "metadata": {},
   "source": [
    "Set aside original test and train data files:"
   ]
  },
  {
   "cell_type": "code",
   "execution_count": null,
   "metadata": {},
   "outputs": [],
   "source": [
    "%mv {data_dir}/*.tar.gz {data_dir}/pristine"
   ]
  },
  {
   "cell_type": "markdown",
   "metadata": {},
   "source": [
    "Extracting **images.tar.gz** will create a directory called **images**:"
   ]
  },
  {
   "cell_type": "code",
   "execution_count": null,
   "metadata": {},
   "outputs": [],
   "source": [
    "with tarfile.open(os.path.join(data_dir, 'pristine', 'images.tar.gz'), \"r:gz\") as tar:\n",
    "    tar.extractall(os.path.join(data_dir, 'full'))"
   ]
  },
  {
   "cell_type": "markdown",
   "metadata": {},
   "source": [
    "We will be using these images as training data for PyTorch's pre-trained ResNet models. Those models were trained on the full ImageNet dataset, so we need to resize and crop the pet images so that each image is 224x224. This function takes the path to an image, a desired size, and will crop and resize the image as necessary:"
   ]
  },
  {
   "cell_type": "code",
   "execution_count": null,
   "metadata": {},
   "outputs": [],
   "source": [
    "def resize_image(fname, size):\n",
    "    img = Image.open(fname)\n",
    "    s = np.array(img).shape\n",
    "    if len(s) != 3 or s[2] != 3:\n",
    "        return None\n",
    "    shortest = min(img.width, img.height)\n",
    "    resized = np.round(np.multiply(size / shortest, img.size)).astype(int)\n",
    "    img = img.resize(resized, Image.BILINEAR)\n",
    "    img = img.crop((0, 0, size, size))\n",
    "    return img"
   ]
  },
  {
   "cell_type": "markdown",
   "metadata": {},
   "source": [
    "**TODO**: The `resize_image` function does not work with greyscale images."
   ]
  },
  {
   "cell_type": "markdown",
   "metadata": {},
   "source": [
    "The filename for each image is prefixed with its label, so we can use that to sort them into directories, before setting aside a portion of those images as test and validation sets:"
   ]
  },
  {
   "cell_type": "code",
   "execution_count": null,
   "metadata": {},
   "outputs": [],
   "source": [
    "pattern = r'([^/]+)_\\d+.jpg$'\n",
    "\n",
    "classes = set()\n",
    "images_dir = os.path.join(data_dir, 'full', 'images')\n",
    "for file in glob.glob(os.path.join(images_dir, '*.jpg')):\n",
    "    basename = os.path.basename(file)\n",
    "    matches = re.match(pattern, basename)\n",
    "    if matches:\n",
    "        c = matches.group(1)\n",
    "        img = resize_image(file, 224)\n",
    "        if img:\n",
    "            target_dir = os.path.join(data_dir, 'full', 'train', c)\n",
    "            %mkdir -p {target_dir}\n",
    "            img.save(os.path.join(target_dir, basename))\n",
    "        else:\n",
    "            print('Failed to resize image:', basename)\n",
    "    else:\n",
    "        print('Failed to extract label from filename:', file)"
   ]
  },
  {
   "cell_type": "markdown",
   "metadata": {},
   "source": [
    "Set aside test and validation sets:"
   ]
  },
  {
   "cell_type": "code",
   "execution_count": null,
   "metadata": {},
   "outputs": [],
   "source": [
    "def set_aside_images(kind, ratio):\n",
    "    for c in classes:\n",
    "        src_dir = os.path.join(data_dir, 'full', 'train', c)\n",
    "        file_list = glob.glob(os.path.join(src_dir, '*.jpg'))\n",
    "        shuffled_list = np.random.permutation(file_list)\n",
    "        num_images = int(shuffled_list.size * ratio)\n",
    "        target_dir = os.path.join(data_dir, 'full', kind, c)\n",
    "        %mkdir -p {target_dir}\n",
    "        for i in range(num_images):\n",
    "            shutil.move(shuffled_list[i], target_dir)\n",
    "\n",
    "# Setting aside 20% for test set\n",
    "set_aside_images('test', 0.2)\n",
    "\n",
    "# Setting aside 10% for validation set\n",
    "set_aside_images('valid', 0.1)"
   ]
  },
  {
   "cell_type": "markdown",
   "metadata": {},
   "source": [
    "Remove the original **images** directory extracted from **images.tar.gz**:"
   ]
  },
  {
   "cell_type": "code",
   "execution_count": null,
   "metadata": {},
   "outputs": [],
   "source": [
    "%rm -rf {images_dir}"
   ]
  }
 ],
 "metadata": {},
 "nbformat": 4,
 "nbformat_minor": 2
}
