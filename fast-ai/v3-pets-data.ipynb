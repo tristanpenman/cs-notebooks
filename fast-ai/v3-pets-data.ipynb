{
 "cells": [
  {
   "cell_type": "markdown",
   "metadata": {},
   "source": [
    "# Prepare training, test, and validation sets for the pets dataset\n",
    "\n",
    "## Overview\n",
    "\n",
    "This notebook assumes that there will be a data directory called **data/pets**, relative to the current directory, that contains two files that were previously downloaded from the [Oxford-IIIT Pet Dataset](http://www.robots.ox.ac.uk/~vgg/data/pets/):\n",
    "\n",
    "* **annotations.tar.gz**\n",
    "* **images.tar.gz**\n",
    "\n",
    "These will be moved to a new directory **data/pets/pristine**, before being extracted. At the end of this notebook, your data directory should contain another two sub-directories:\n",
    "\n",
    "* **data/pets/full**\n",
    "* **data/pets/sample**\n",
    "\n",
    "The **full** sub-directory contains the full dataset, with images separated according to label. The **sample** sub-directory contains a subset of this data that allows for faster training while initially developing a model."
   ]
  },
  {
   "cell_type": "markdown",
   "metadata": {},
   "source": [
    "## Processing"
   ]
  },
  {
   "cell_type": "code",
   "execution_count": null,
   "metadata": {},
   "outputs": [],
   "source": [
    "import glob, os, random, re, shutil, sys, tarfile\n",
    "import numpy as np"
   ]
  },
  {
   "cell_type": "markdown",
   "metadata": {},
   "source": [
    "We seed the random number generator so that sample generation is deterministic:"
   ]
  },
  {
   "cell_type": "code",
   "execution_count": null,
   "metadata": {},
   "outputs": [],
   "source": [
    "seed = random.randrange(sys.maxsize)\n",
    "rng = random.Random(seed)\n",
    "print(\"Random seed:\", seed)"
   ]
  },
  {
   "cell_type": "markdown",
   "metadata": {},
   "source": [
    "Generate path for data directory:"
   ]
  },
  {
   "cell_type": "code",
   "execution_count": null,
   "metadata": {},
   "outputs": [],
   "source": [
    "data_dir = os.path.join(os.getcwd(), 'data', 'pets')\n",
    "print(\"Data directory:\", data_dir)"
   ]
  },
  {
   "cell_type": "markdown",
   "metadata": {},
   "source": [
    "Create directory structure:"
   ]
  },
  {
   "cell_type": "code",
   "execution_count": null,
   "metadata": {},
   "outputs": [],
   "source": [
    "%mkdir -p {data_dir}/full/test\n",
    "%mkdir -p {data_dir}/full/train\n",
    "%mkdir -p {data_dir}/full/valid\n",
    "%mkdir -p {data_dir}/pristine\n",
    "%mkdir -p {data_dir}/sample"
   ]
  },
  {
   "cell_type": "markdown",
   "metadata": {},
   "source": [
    "Set aside original test and train data files:"
   ]
  },
  {
   "cell_type": "code",
   "execution_count": null,
   "metadata": {},
   "outputs": [],
   "source": [
    "%mv {data_dir}/*.tar.gz {data_dir}/pristine"
   ]
  },
  {
   "cell_type": "markdown",
   "metadata": {},
   "source": [
    "Extracting **images.tar.gz** will create a directory called **images**:"
   ]
  },
  {
   "cell_type": "code",
   "execution_count": null,
   "metadata": {},
   "outputs": [],
   "source": [
    "with tarfile.open(os.path.join(data_dir, 'pristine', 'images.tar.gz'), \"r:gz\") as tar:\n",
    "    tar.extractall(os.path.join(data_dir, 'full'))"
   ]
  },
  {
   "cell_type": "markdown",
   "metadata": {},
   "source": [
    "The filename for each image is prefixed with its label, so we can use that to sort them into directories, before setting aside a portion of those images as test and validation sets:"
   ]
  },
  {
   "cell_type": "code",
   "execution_count": null,
   "metadata": {},
   "outputs": [],
   "source": [
    "pattern = r'([^/]+)_\\d+.jpg$'\n",
    "\n",
    "classes = set()\n",
    "images_dir = os.path.join(data_dir, 'full', 'images')\n",
    "for file in glob.glob(os.path.join(images_dir, '*.jpg')):\n",
    "    basename = os.path.basename(file)\n",
    "    matches = re.match(pattern, basename)\n",
    "    if matches:\n",
    "        classes.add(matches.group(1))\n",
    "    else:\n",
    "        print('Failed to extract label from filename:', file)\n",
    "\n",
    "classes = sorted(classes)\n",
    "for c in classes:\n",
    "    print('Moving images for class:', c)\n",
    "    target_dir = os.path.join(data_dir, 'full', 'train', c)\n",
    "    prefix = os.path.join(images_dir, c)\n",
    "    %mkdir -p {target_dir}\n",
    "    %mv {prefix}_*.jpg {target_dir}"
   ]
  },
  {
   "cell_type": "markdown",
   "metadata": {},
   "source": [
    "Set aside test and validation sets:"
   ]
  },
  {
   "cell_type": "code",
   "execution_count": null,
   "metadata": {},
   "outputs": [],
   "source": [
    "def set_aside_images(kind, ratio):\n",
    "    for c in classes:\n",
    "        src_dir = os.path.join(data_dir, 'full', 'train', c)\n",
    "        file_list = glob.glob(os.path.join(src_dir, '*.jpg'))\n",
    "        shuffled_list = np.random.permutation(file_list)\n",
    "        num_images = int(shuffled_list.size * ratio)\n",
    "        target_dir = os.path.join(data_dir, 'full', kind, c)\n",
    "        %mkdir -p {target_dir}\n",
    "        for i in range(num_images):\n",
    "            shutil.move(shuffled_list[i], target_dir)\n",
    "\n",
    "# Setting aside 20% for test set\n",
    "set_aside_images('test', 0.2)\n",
    "\n",
    "# Setting aside 10% for validation set\n",
    "set_aside_images('valid', 0.1)"
   ]
  },
  {
   "cell_type": "markdown",
   "metadata": {},
   "source": [
    "Remove the original **images** directory extracted from **images.tar.gz**:"
   ]
  },
  {
   "cell_type": "code",
   "execution_count": null,
   "metadata": {},
   "outputs": [],
   "source": [
    "%rm -rf {images_dir}"
   ]
  }
 ],
 "metadata": {},
 "nbformat": 4,
 "nbformat_minor": 2
}
