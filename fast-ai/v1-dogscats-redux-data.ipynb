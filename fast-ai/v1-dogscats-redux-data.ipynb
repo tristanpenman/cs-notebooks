{
 "cells": [
  {
   "cell_type": "markdown",
   "metadata": {},
   "source": [
    "# Prepare training and test sets for the dogs/cats dataset\n",
    "\n",
    "## Overview\n",
    "\n",
    "This notebook assumes that there will be a data directory called **data/dogscats-redux**, relative to the current directory, that contains two files that were previously downloaded from Kaggle's 'dogscats-redux' dataset:\n",
    "\n",
    "* **test.zip**\n",
    "* **train.zip**\n",
    "\n",
    "These will be moved to a new directory **data/dogscats-redux/pristine**, before being extracted. At the end of this notebook, your data directory should contain another two sub-directories:\n",
    "\n",
    "* **data/dogscats-redux/full**\n",
    "* **data/dogscats-redux/sample**\n",
    "\n",
    "The **full** sub-directory contains the full dataset, with images separated according to label. The **sample** sub-directory contains a subset of this data that allows for faster training while initially developing a model."
   ]
  },
  {
   "cell_type": "code",
   "execution_count": null,
   "metadata": {},
   "outputs": [],
   "source": [
    "import glob, os, random, shutil, sys, zipfile\n",
    "import numpy as np"
   ]
  },
  {
   "cell_type": "markdown",
   "metadata": {},
   "source": [
    "We seed the random number generator so that sample generation is deterministic:"
   ]
  },
  {
   "cell_type": "code",
   "execution_count": null,
   "metadata": {},
   "outputs": [],
   "source": [
    "seed = random.randrange(sys.maxsize)\n",
    "rng = random.Random(seed)\n",
    "print(\"Random seed:\", seed)"
   ]
  },
  {
   "cell_type": "markdown",
   "metadata": {},
   "source": [
    "Generate path for data directory:"
   ]
  },
  {
   "cell_type": "code",
   "execution_count": null,
   "metadata": {},
   "outputs": [],
   "source": [
    "data_dir = os.path.join(os.getcwd(), 'data', 'dogscats-redux')\n",
    "print(\"Data directory:\", data_dir)"
   ]
  },
  {
   "cell_type": "markdown",
   "metadata": {},
   "source": [
    "Create directory structure:"
   ]
  },
  {
   "cell_type": "code",
   "execution_count": null,
   "metadata": {},
   "outputs": [],
   "source": [
    "%mkdir -p {data_dir}/full\n",
    "%mkdir -p {data_dir}/pristine\n",
    "%mkdir -p {data_dir}/sample"
   ]
  },
  {
   "cell_type": "markdown",
   "metadata": {},
   "source": [
    "Set aside original test and train data files:"
   ]
  },
  {
   "cell_type": "code",
   "execution_count": null,
   "metadata": {},
   "outputs": [],
   "source": [
    "%mv {data_dir}/test.zip {data_dir}/train.zip {data_dir}/pristine"
   ]
  },
  {
   "cell_type": "markdown",
   "metadata": {},
   "source": [
    "Decompress test data:"
   ]
  },
  {
   "cell_type": "code",
   "execution_count": null,
   "metadata": {},
   "outputs": [],
   "source": [
    "with zipfile.ZipFile(os.path.join(data_dir, \"pristine\", \"test.zip\"), \"r\") as ref:\n",
    "    ref.extractall(os.path.join(data_dir, \"full\", \"test\"))\n",
    "\n",
    "full_test_unlabelled_dir = os.path.join(data_dir, \"full\", \"test\", \"unlabelled\")\n",
    "    \n",
    "%mv {data_dir}/full/test/test {full_test_unlabelled_dir}"
   ]
  },
  {
   "cell_type": "markdown",
   "metadata": {},
   "source": [
    "Decompress and rearrange training data:"
   ]
  },
  {
   "cell_type": "code",
   "execution_count": null,
   "metadata": {},
   "outputs": [],
   "source": [
    "with zipfile.ZipFile(os.path.join(data_dir, \"pristine\", \"train.zip\"), \"r\") as ref:\n",
    "    ref.extractall(os.path.join(data_dir, \"full\"))\n",
    "\n",
    "full_train_dir = os.path.join(data_dir, \"full\", \"train\")\n",
    "\n",
    "full_trains_cats_dir = os.path.join(full_train_dir, \"cats\")\n",
    "%mkdir -p {full_trains_cats_dir}\n",
    "for file in glob.glob(os.path.join(full_train_dir, \"cat.*.jpg\")):\n",
    "    shutil.move(file, full_trains_cats_dir)\n",
    "\n",
    "full_trains_dogs_dir = os.path.join(full_train_dir, \"dogs\")\n",
    "%mkdir -p {full_trains_dogs_dir}\n",
    "for file in glob.glob(os.path.join(full_train_dir, \"dog.*.jpg\")):\n",
    "    shutil.move(file, full_trains_dogs_dir)"
   ]
  },
  {
   "cell_type": "markdown",
   "metadata": {},
   "source": [
    "Create a validation dataset:"
   ]
  },
  {
   "cell_type": "code",
   "execution_count": null,
   "metadata": {},
   "outputs": [],
   "source": [
    "full_valid_dir = os.path.join(data_dir, \"full\", \"valid\")\n",
    "\n",
    "full_valid_cats_dir = os.path.join(full_valid_dir, \"cats\")\n",
    "%mkdir -p {full_valid_cats_dir}\n",
    "\n",
    "full_valid_dogs_dir = os.path.join(full_valid_dir, \"dogs\")\n",
    "%mkdir -p {full_valid_dogs_dir}\n",
    "\n",
    "cats_shuffled = np.random.permutation(glob.glob(os.path.join(full_trains_cats_dir, \"*.jpg\")))\n",
    "dogs_shuffled = np.random.permutation(glob.glob(os.path.join(full_trains_dogs_dir, \"*.jpg\")))\n",
    "\n",
    "num_validation_images_per_class = 1000\n",
    "for i in range(num_validation_images_per_class):\n",
    "    shutil.move(cats_shuffled[i], full_valid_cats_dir)\n",
    "    shutil.move(dogs_shuffled[i], full_valid_dogs_dir)"
   ]
  },
  {
   "cell_type": "markdown",
   "metadata": {},
   "source": [
    "Sample from training dataset:"
   ]
  },
  {
   "cell_type": "code",
   "execution_count": null,
   "metadata": {},
   "outputs": [],
   "source": [
    "sample_train_cats_dir = os.path.join(data_dir, \"sample\", \"train\", \"cats\")\n",
    "%mkdir -p {sample_train_cats_dir}\n",
    "\n",
    "sample_train_dogs_dir = os.path.join(data_dir, \"sample\", \"train\", \"dogs\")\n",
    "%mkdir -p {sample_train_dogs_dir}\n",
    "\n",
    "num_training_samples_per_class = 1000\n",
    "for i in range(num_validation_images_per_class, num_validation_images_per_class + num_training_samples_per_class):\n",
    "    shutil.copy(cats_shuffled[i], sample_train_cats_dir)\n",
    "    shutil.copy(dogs_shuffled[i], sample_train_dogs_dir)"
   ]
  },
  {
   "cell_type": "markdown",
   "metadata": {},
   "source": [
    "Sample from test dataset:"
   ]
  },
  {
   "cell_type": "code",
   "execution_count": null,
   "metadata": {},
   "outputs": [],
   "source": [
    "sample_test_unlabelled_dir = os.path.join(data_dir, \"sample\", \"test\", \"unlabelled\")\n",
    "%mkdir -p {sample_test_unlabelled_dir}\n",
    "    \n",
    "test_shuffled = np.random.permutation(glob.glob(os.path.join(full_test_unlabelled_dir, \"*.jpg\")))\n",
    "    \n",
    "num_test_samples = 500\n",
    "for i in range(num_test_samples):\n",
    "    shutil.copy(test_shuffled[i], sample_test_unlabelled_dir)"
   ]
  },
  {
   "cell_type": "markdown",
   "metadata": {},
   "source": [
    "Sample from validation dataset:"
   ]
  },
  {
   "cell_type": "code",
   "execution_count": null,
   "metadata": {},
   "outputs": [],
   "source": [
    "sample_valid_cats_dir = os.path.join(data_dir, \"sample\", \"valid\", \"cats\")\n",
    "%mkdir -p {sample_valid_cats_dir}\n",
    "\n",
    "sample_valid_dogs_dir = os.path.join(data_dir, \"sample\", \"valid\", \"dogs\")\n",
    "%mkdir -p {sample_valid_dogs_dir}\n",
    "\n",
    "valid_cats_shuffled = np.random.permutation(glob.glob(os.path.join(full_valid_cats_dir, \"*.jpg\")))\n",
    "valid_dogs_shuffled = np.random.permutation(glob.glob(os.path.join(full_valid_dogs_dir, \"*.jpg\")))\n",
    "\n",
    "num_validation_samples_per_class = 100\n",
    "for i in range(num_validation_samples_per_class):\n",
    "    shutil.copy(valid_cats_shuffled[i], sample_valid_cats_dir)\n",
    "    shutil.copy(valid_dogs_shuffled[i], sample_valid_dogs_dir)"
   ]
  }
 ],
 "metadata": {},
 "nbformat": 4,
 "nbformat_minor": 2
}
