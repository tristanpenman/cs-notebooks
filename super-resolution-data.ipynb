{
 "cells": [
  {
   "cell_type": "markdown",
   "metadata": {},
   "source": [
    "### Setup"
   ]
  },
  {
   "cell_type": "code",
   "execution_count": null,
   "metadata": {},
   "outputs": [],
   "source": [
    "import bcolz, glob, os, numpy as np, pickle, random, shutil, sys\n",
    "\n",
    "from PIL import Image"
   ]
  },
  {
   "cell_type": "code",
   "execution_count": null,
   "metadata": {},
   "outputs": [],
   "source": [
    "seed = 708970590\n",
    "np.random.seed(seed)"
   ]
  },
  {
   "cell_type": "code",
   "execution_count": null,
   "metadata": {},
   "outputs": [],
   "source": [
    "new_size = 72"
   ]
  },
  {
   "cell_type": "code",
   "execution_count": null,
   "metadata": {},
   "outputs": [],
   "source": [
    "CURRENT_DIR = os.getcwd()\n",
    "print(\"Current directory:\", CURRENT_DIR)"
   ]
  },
  {
   "cell_type": "code",
   "execution_count": null,
   "metadata": {},
   "outputs": [],
   "source": [
    "DATA_DIR = os.path.join(CURRENT_DIR, 'data', 'imagenet')\n",
    "print(\"Data directory:\", DATA_DIR)"
   ]
  },
  {
   "cell_type": "markdown",
   "metadata": {},
   "source": [
    "### Find and permute ordering of all filenames"
   ]
  },
  {
   "cell_type": "code",
   "execution_count": null,
   "metadata": {},
   "outputs": [],
   "source": [
    "fnames = list(glob.iglob(os.path.join(DATA_DIR, 'sample', 'original', '*', '*.JPEG')))\n",
    "fnames = np.random.permutation(fnames)\n",
    "print(fnames[:10])\n",
    "num_images = len(fnames)\n",
    "print('Found {} images'.format(num_images))"
   ]
  },
  {
   "cell_type": "markdown",
   "metadata": {},
   "source": [
    "### Prepare directory structure for resized images"
   ]
  },
  {
   "cell_type": "code",
   "execution_count": null,
   "metadata": {},
   "outputs": [],
   "source": [
    "RESIZED_DIR = os.path.join(DATA_DIR, 'sample', 'resized-' + str(new_size))\n",
    "dirnames = list(glob.iglob(os.path.join(DATA_DIR, 'sample', 'original', '*')))\n",
    "dirnames = [os.path.join(RESIZED_DIR, os.path.basename(dirname)) for dirname in dirnames]\n",
    "for dirname in dirnames:\n",
    "    if not os.path.exists(dirname):\n",
    "        os.makedirs(dirname)\n",
    "num_classes = len(dirnames)\n",
    "print('Number of classes: {}'.format(num_classes))"
   ]
  },
  {
   "cell_type": "markdown",
   "metadata": {},
   "source": [
    "### Prepare bcolz array for resized images"
   ]
  },
  {
   "cell_type": "code",
   "execution_count": null,
   "metadata": {},
   "outputs": [],
   "source": [
    "bc_path = os.path.join(DATA_DIR, 'sample', 'resized-' + str(new_size) + '.bc')\n",
    "bc_arr = bcolz.carray(np.empty((0, new_size, new_size, 3), 'float32'), chunklen=16, mode='w', rootdir=bc_path)\n",
    "bc_arr.shape"
   ]
  },
  {
   "cell_type": "markdown",
   "metadata": {},
   "source": [
    "### Dump list of filenames as per permuted ordering"
   ]
  },
  {
   "cell_type": "code",
   "execution_count": null,
   "metadata": {},
   "outputs": [],
   "source": [
    "def new_tail(fname):\n",
    "    head, tail = os.path.split(fname)\n",
    "    return os.path.join(os.path.basename(head), tail)\n",
    "\n",
    "relative_fnames = [new_tail(fname) for fname in fnames]\n",
    "with open(os.path.join(DATA_DIR, 'sample', 'resized-' + str(new_size) + '.filenames.pkl'), 'wb') as file:\n",
    "    pickle.dump(relative_fnames, file)"
   ]
  },
  {
   "cell_type": "markdown",
   "metadata": {},
   "source": [
    "### Resize images"
   ]
  },
  {
   "cell_type": "code",
   "execution_count": null,
   "metadata": {},
   "outputs": [],
   "source": [
    "def new_path(basedir, fname):\n",
    "    head, tail = os.path.split(fname)\n",
    "    return os.path.join(basedir, os.path.basename(head), tail)\n",
    "\n",
    "def resize_image(fname, size):\n",
    "    img = Image.open(fname)\n",
    "    s = np.array(img).shape\n",
    "    if len(s) != 3 or s[2] != 3:\n",
    "        return None\n",
    "    shortest = min(img.width, img.height)\n",
    "    resized = np.round(np.multiply(size / shortest, img.size)).astype(int)\n",
    "    img = img.resize(resized, Image.BILINEAR)\n",
    "    img = img.crop((0, 0, size, size))\n",
    "    return img\n",
    "\n",
    "processed = 0\n",
    "\n",
    "try:\n",
    "    for fname in fnames:\n",
    "        img = resize_image(fname, new_size)\n",
    "        processed = processed + 1\n",
    "        if processed % 1000 == 0:\n",
    "            print('Processed {} of {} images'.format(processed, num_images))\n",
    "        if img is not None:\n",
    "            img_arr = np.array(img)\n",
    "            bc_arr.append(np.array(img))\n",
    "            img.save(new_path(RESIZED_DIR, fname))\n",
    "except KeyboardInterrupt:\n",
    "    pass\n",
    "\n",
    "bc_arr.flush()\n",
    "print('Processed {} images'.format(processed))"
   ]
  },
  {
   "cell_type": "code",
   "execution_count": null,
   "metadata": {},
   "outputs": [],
   "source": []
  }
 ],
 "metadata": {},
 "nbformat": 4,
 "nbformat_minor": 2
}
