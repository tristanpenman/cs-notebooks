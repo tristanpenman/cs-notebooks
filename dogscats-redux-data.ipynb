{
 "cells": [
  {
   "cell_type": "code",
   "execution_count": 9,
   "metadata": {},
   "outputs": [],
   "source": [
    "import glob, os, random, shutil, sys, zipfile\n",
    "\n",
    "# Used to generate permutations for validation data\n",
    "import numpy as np"
   ]
  },
  {
   "cell_type": "code",
   "execution_count": 10,
   "metadata": {},
   "outputs": [
    {
     "name": "stdout",
     "output_type": "stream",
     "text": [
      "Seed was: 1435451318662121878\n"
     ]
    }
   ],
   "source": [
    "seed = random.randrange(sys.maxsize)\n",
    "rng = random.Random(seed)\n",
    "print(\"Seed was:\", seed)"
   ]
  },
  {
   "cell_type": "code",
   "execution_count": 11,
   "metadata": {},
   "outputs": [
    {
     "name": "stdout",
     "output_type": "stream",
     "text": [
      "Current directory: /Users/Tristan/Code/fastai-notebooks-old\n"
     ]
    }
   ],
   "source": [
    "CURRENT_DIR = os.getcwd()\n",
    "print(\"Current directory:\", CURRENT_DIR)"
   ]
  },
  {
   "cell_type": "code",
   "execution_count": 12,
   "metadata": {},
   "outputs": [
    {
     "name": "stdout",
     "output_type": "stream",
     "text": [
      "Data directory: /Users/Tristan/Code/fastai-notebooks-old/data/dogscats-redux\n"
     ]
    }
   ],
   "source": [
    "DATA_DIR = os.path.join(CURRENT_DIR, 'data', 'dogscats-redux')\n",
    "print(\"Data directory:\", DATA_DIR)"
   ]
  },
  {
   "cell_type": "markdown",
   "metadata": {},
   "source": [
    "Create directory structure:"
   ]
  },
  {
   "cell_type": "code",
   "execution_count": 13,
   "metadata": {},
   "outputs": [],
   "source": [
    "%mkdir -p {DATA_DIR}/full\n",
    "%mkdir -p {DATA_DIR}/pristine\n",
    "%mkdir -p {DATA_DIR}/sample"
   ]
  },
  {
   "cell_type": "markdown",
   "metadata": {},
   "source": [
    "Set aside original test and train data files:"
   ]
  },
  {
   "cell_type": "code",
   "execution_count": 14,
   "metadata": {},
   "outputs": [],
   "source": [
    "%mv {DATA_DIR}/test.zip {DATA_DIR}/train.zip {DATA_DIR}/pristine"
   ]
  },
  {
   "cell_type": "markdown",
   "metadata": {},
   "source": [
    "Decompress test data:"
   ]
  },
  {
   "cell_type": "code",
   "execution_count": 15,
   "metadata": {},
   "outputs": [],
   "source": [
    "with zipfile.ZipFile(os.path.join(DATA_DIR, \"pristine\", \"test.zip\"), \"r\") as ref:\n",
    "    ref.extractall(os.path.join(DATA_DIR, \"full\", \"test\"))\n",
    "\n",
    "full_test_unlabelled_dir = os.path.join(DATA_DIR, \"full\", \"test\", \"unlabelled\")\n",
    "    \n",
    "%mv {DATA_DIR}/full/test/test {full_test_unlabelled_dir}"
   ]
  },
  {
   "cell_type": "markdown",
   "metadata": {},
   "source": [
    "Decompress and rearrange training data:"
   ]
  },
  {
   "cell_type": "code",
   "execution_count": 16,
   "metadata": {},
   "outputs": [],
   "source": [
    "with zipfile.ZipFile(os.path.join(DATA_DIR, \"pristine\", \"train.zip\"), \"r\") as ref:\n",
    "    ref.extractall(os.path.join(DATA_DIR, \"full\"))\n",
    "\n",
    "full_train_dir = os.path.join(DATA_DIR, \"full\", \"train\")\n",
    "\n",
    "full_trains_cats_dir = os.path.join(full_train_dir, \"cats\")\n",
    "%mkdir -p {full_trains_cats_dir}\n",
    "for file in glob.glob(os.path.join(full_train_dir, \"cat.*.jpg\")):\n",
    "    shutil.move(file, full_trains_cats_dir)\n",
    "\n",
    "full_trains_dogs_dir = os.path.join(full_train_dir, \"dogs\")\n",
    "%mkdir -p {full_trains_dogs_dir}\n",
    "for file in glob.glob(os.path.join(full_train_dir, \"dog.*.jpg\")):\n",
    "    shutil.move(file, full_trains_dogs_dir)"
   ]
  },
  {
   "cell_type": "markdown",
   "metadata": {},
   "source": [
    "Create a validation dataset:"
   ]
  },
  {
   "cell_type": "code",
   "execution_count": null,
   "metadata": {
    "collapsed": true
   },
   "outputs": [],
   "source": [
    "full_valid_dir = os.path.join(DATA_DIR, \"full\", \"valid\")\n",
    "\n",
    "full_valid_cats_dir = os.path.join(full_valid_dir, \"cats\")\n",
    "%mkdir -p {full_valid_cats_dir}\n",
    "\n",
    "full_valid_dogs_dir = os.path.join(full_valid_dir, \"dogs\")\n",
    "%mkdir -p {full_valid_dogs_dir}\n",
    "\n",
    "cats_shuffled = np.random.permutation(glob.glob(os.path.join(full_trains_cats_dir, \"*.jpg\")))\n",
    "dogs_shuffled = np.random.permutation(glob.glob(os.path.join(full_trains_dogs_dir, \"*.jpg\")))\n",
    "\n",
    "num_validation_images_per_class = 1000\n",
    "for i in range(num_validation_images_per_class):\n",
    "    shutil.move(cats_shuffled[i], full_valid_cats_dir)\n",
    "    shutil.move(dogs_shuffled[i], full_valid_dogs_dir)"
   ]
  },
  {
   "cell_type": "markdown",
   "metadata": {},
   "source": [
    "Sample from training dataset:"
   ]
  },
  {
   "cell_type": "code",
   "execution_count": null,
   "metadata": {
    "collapsed": true
   },
   "outputs": [],
   "source": [
    "sample_train_cats_dir = os.path.join(DATA_DIR, \"sample\", \"train\", \"cats\")\n",
    "%mkdir -p {sample_train_cats_dir}\n",
    "\n",
    "sample_train_dogs_dir = os.path.join(DATA_DIR, \"sample\", \"train\", \"dogs\")\n",
    "%mkdir -p {sample_train_dogs_dir}\n",
    "\n",
    "num_training_samples_per_class = 1000\n",
    "for i in range(num_validation_images_per_class, num_validation_images_per_class + num_training_samples_per_class):\n",
    "    shutil.copy(cats_shuffled[i], sample_train_cats_dir)\n",
    "    shutil.copy(dogs_shuffled[i], sample_train_dogs_dir)"
   ]
  },
  {
   "cell_type": "markdown",
   "metadata": {},
   "source": [
    "Sample from test dataset:"
   ]
  },
  {
   "cell_type": "code",
   "execution_count": null,
   "metadata": {
    "collapsed": true
   },
   "outputs": [],
   "source": [
    "sample_test_unlabelled_dir = os.path.join(DATA_DIR, \"sample\", \"test\", \"unlabelled\")\n",
    "%mkdir -p {sample_test_unlabelled_dir}\n",
    "    \n",
    "test_shuffled = np.random.permutation(glob.glob(os.path.join(full_test_unlabelled_dir, \"*.jpg\")))\n",
    "    \n",
    "num_test_samples = 500\n",
    "for i in range(num_test_samples):\n",
    "    shutil.copy(test_shuffled[i], sample_test_unlabelled_dir)"
   ]
  },
  {
   "cell_type": "markdown",
   "metadata": {},
   "source": [
    "Sample from validation dataset:"
   ]
  },
  {
   "cell_type": "code",
   "execution_count": null,
   "metadata": {
    "collapsed": true
   },
   "outputs": [],
   "source": [
    "sample_valid_cats_dir = os.path.join(DATA_DIR, \"sample\", \"valid\", \"cats\")\n",
    "%mkdir -p {sample_valid_cats_dir}\n",
    "\n",
    "sample_valid_dogs_dir = os.path.join(DATA_DIR, \"sample\", \"valid\", \"dogs\")\n",
    "%mkdir -p {sample_valid_dogs_dir}\n",
    "\n",
    "valid_cats_shuffled = np.random.permutation(glob.glob(os.path.join(full_valid_cats_dir, \"*.jpg\")))\n",
    "valid_dogs_shuffled = np.random.permutation(glob.glob(os.path.join(full_valid_dogs_dir, \"*.jpg\")))\n",
    "\n",
    "num_validation_samples_per_class = 100\n",
    "for i in range(num_validation_samples_per_class):\n",
    "    shutil.copy(valid_cats_shuffled[i], sample_valid_cats_dir)\n",
    "    shutil.copy(valid_dogs_shuffled[i], sample_valid_dogs_dir)"
   ]
  },
  {
   "cell_type": "code",
   "execution_count": null,
   "metadata": {
    "collapsed": true
   },
   "outputs": [],
   "source": []
  }
 ],
 "metadata": {
  "kernelspec": {
   "display_name": "Python 3",
   "language": "python",
   "name": "python3"
  },
  "language_info": {
   "codemirror_mode": {
    "name": "ipython",
    "version": 3
   },
   "file_extension": ".py",
   "mimetype": "text/x-python",
   "name": "python",
   "nbconvert_exporter": "python",
   "pygments_lexer": "ipython3",
   "version": "3.6.4"
  }
 },
 "nbformat": 4,
 "nbformat_minor": 2
}
