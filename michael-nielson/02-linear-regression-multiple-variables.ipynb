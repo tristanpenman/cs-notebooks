{
 "cells": [
  {
   "cell_type": "code",
   "execution_count": null,
   "metadata": {},
   "outputs": [],
   "source": [
    "data_file = '/Users/Tristan/Dropbox/Notebooks/NNDL/data/ex1data2.txt'"
   ]
  },
  {
   "cell_type": "code",
   "execution_count": null,
   "metadata": {},
   "outputs": [],
   "source": [
    "from numpy import loadtxt, zeros, ones, array, linspace, logspace, mean, std, arange\n",
    "from mpl_toolkits.mplot3d import Axes3D\n",
    "import matplotlib.pyplot as plt\n",
    "from pylab import plot, show, xlabel, ylabel"
   ]
  },
  {
   "cell_type": "code",
   "execution_count": null,
   "metadata": {},
   "outputs": [],
   "source": [
    "def feature_normalize(X):\n",
    "    '''\n",
    "    Returns a normalized version of X where\n",
    "    the mean value of each feature is 0 and the standard deviation\n",
    "    is 1. This is often a good preprocessing step to do when\n",
    "    working with learning algorithms.\n",
    "    '''\n",
    "    mean_r = []\n",
    "    std_r = []\n",
    " \n",
    "    X_norm = X\n",
    " \n",
    "    n_c = X.shape[1]\n",
    "    for i in range(n_c):\n",
    "        m = mean(X[:, i])\n",
    "        s = std(X[:, i])\n",
    "        mean_r.append(m)\n",
    "        std_r.append(s)\n",
    "        X_norm[:, i] = (X_norm[:, i] - m) / s\n",
    " \n",
    "    return X_norm, mean_r, std_r\n",
    "\n",
    "# Evaluate the linear regression\n",
    "def compute_cost(X, y, theta):\n",
    "    '''\n",
    "    Comput cost for linear regression\n",
    "    '''\n",
    "    #Number of training samples\n",
    "    m = y.size\n",
    " \n",
    "    predictions = X.dot(theta)\n",
    " \n",
    "    sqErrors = (predictions - y)\n",
    " \n",
    "    J = (1.0 / (2 * m)) * sqErrors.T.dot(sqErrors)\n",
    " \n",
    "    return J\n",
    "\n",
    "def gradient_descent(X, y, theta, alpha, num_iters):\n",
    "    '''\n",
    "    Performs gradient descent to learn theta\n",
    "    by taking num_items gradient steps with learning\n",
    "    rate alpha\n",
    "    '''\n",
    "    m = y.size\n",
    "    J_history = zeros(shape=(num_iters, 1))\n",
    " \n",
    "    for i in range(num_iters):\n",
    " \n",
    "        predictions = X.dot(theta)\n",
    " \n",
    "        theta_size = theta.size\n",
    " \n",
    "        for it in range(theta_size):\n",
    " \n",
    "            temp = X[:, it]\n",
    "            temp.shape = (m, 1)\n",
    " \n",
    "            errors_x1 = (predictions - y) * temp\n",
    " \n",
    "            theta[it][0] = theta[it][0] - alpha * (1.0 / m) * errors_x1.sum()\n",
    " \n",
    "        J_history[i] = compute_cost(X, y, theta)\n",
    " \n",
    "    return theta, J_history"
   ]
  },
  {
   "cell_type": "code",
   "execution_count": null,
   "metadata": {},
   "outputs": [],
   "source": [
    "# Prepare data\n",
    "data = loadtxt(data_file, delimiter=',')\n",
    "X = data[:, :2]\n",
    "y = data[:, 2]\n",
    "\n",
    "#number of training samples\n",
    "m = y.size\n",
    " \n",
    "y.shape = (m, 1)\n",
    " \n",
    "#Scale features and set them to zero mean\n",
    "x, mean_r, std_r = feature_normalize(X)\n",
    " \n",
    "#Add a column of ones to X (interception data)\n",
    "it = ones(shape=(m, 3))\n",
    "it[:, 1:3] = x"
   ]
  },
  {
   "cell_type": "code",
   "execution_count": null,
   "metadata": {},
   "outputs": [],
   "source": [
    "#Plot the data\n",
    "fig = plt.figure()\n",
    "ax = fig.add_subplot(111, projection='3d')\n",
    "n = 100\n",
    "for c, m, zl, zh in [('r', 'o', -50, -25)]:\n",
    "    xs = data[:, 0]\n",
    "    ys = data[:, 1]\n",
    "    zs = data[:, 2]\n",
    "    ax.scatter(xs, ys, zs, c=c, marker=m)\n",
    "\n",
    "ax.set_xlabel('Size of the House')\n",
    "ax.set_ylabel('Number of Bedrooms')\n",
    "ax.set_zlabel('Price of the House')\n",
    "\n",
    "plt.show()"
   ]
  },
  {
   "cell_type": "code",
   "execution_count": null,
   "metadata": {},
   "outputs": [],
   "source": [
    "# Gradient descent parameters\n",
    "initial_theta = zeros(shape=(3, 1))\n",
    "iterations = 1500\n",
    "alpha = 0.01"
   ]
  },
  {
   "cell_type": "code",
   "execution_count": null,
   "metadata": {},
   "outputs": [],
   "source": [
    "# Find theta\n",
    "theta, J_history = gradient_descent(it, y, initial_theta, alpha, iterations)"
   ]
  },
  {
   "cell_type": "code",
   "execution_count": null,
   "metadata": {},
   "outputs": [],
   "source": [
    "plot(arange(iterations), J_history)\n",
    "xlabel('Iterations')\n",
    "ylabel('Cost Function')\n",
    "show()"
   ]
  },
  {
   "cell_type": "code",
   "execution_count": null,
   "metadata": {},
   "outputs": [],
   "source": [
    "#Predict price of a 1650 sq-ft 3 br house\n",
    "price = array([1.0,   ((1650.0 - mean_r[0]) / std_r[0]), ((3 - mean_r[1]) / std_r[1])]).dot(theta)\n",
    "print('Predicted price of a 1650 sq-ft, 3 br house: %f' % (price))"
   ]
  },
  {
   "cell_type": "code",
   "execution_count": null,
   "metadata": {},
   "outputs": [],
   "source": []
  }
 ],
 "metadata": {},
 "nbformat": 4,
 "nbformat_minor": 0
}
