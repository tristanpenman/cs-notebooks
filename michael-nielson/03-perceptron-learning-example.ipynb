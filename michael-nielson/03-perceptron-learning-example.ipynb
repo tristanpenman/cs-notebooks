{
 "cells": [
  {
   "cell_type": "markdown",
   "metadata": {},
   "source": [
    "This example depends on 'numpy'."
   ]
  },
  {
   "cell_type": "code",
   "execution_count": null,
   "metadata": {},
   "outputs": [],
   "source": [
    "import numpy as np"
   ]
  },
  {
   "cell_type": "markdown",
   "metadata": {},
   "source": [
    "The following code implements a Perceptron class that randomly generates bias and weight values to 'learn' how to compute a given function."
   ]
  },
  {
   "cell_type": "code",
   "execution_count": null,
   "metadata": {},
   "outputs": [],
   "source": [
    "class Perceptron():\n",
    "    \"\"\" A Perceptron instance can take a function and attempt to\n",
    "    ``learn`` a bias and set of weights that compute that function,\n",
    "    using the perceptron learning algorithm.\"\"\"\n",
    "\n",
    "    def __init__(self, num_inputs=2):\n",
    "        \"\"\" Initialize the perceptron with the bias and all weights\n",
    "        set to 0.0. ``num_inputs`` is the number of input bits to the\n",
    "        perceptron.\"\"\"\n",
    "        self.num_inputs = num_inputs\n",
    "        self.bias = 0.0\n",
    "        self.weights = np.zeros(num_inputs)\n",
    "        # self.inputs is a convenience attribute.  It's a list containing\n",
    "        # all possible binary inputs to the perceptron.  E.g., for three\n",
    "        # inputs it is: [np.array([0, 0, 0]), np.array([0, 0, 1]), ...]\n",
    "        self.inputs = [np.array([int(y)\n",
    "                        for y in bin(x).lstrip(\"0b\").zfill(num_inputs)])\n",
    "                       for x in range(2**num_inputs)]      \n",
    "\n",
    "    def output(self, x):\n",
    "        \"\"\" Return the output (0 or 1) from the perceptron, with input\n",
    "        ``x``.\"\"\"\n",
    "        return 1 if np.inner(self.weights, x)+self.bias > 0 else 0\n",
    "\n",
    "    def learn(self, f, eta=0.1):\n",
    "        \"\"\" Find a bias and a set of weights for a perceptron that\n",
    "        computes the function ``f``. ``eta`` is the learning rate, and\n",
    "        should be a small positive number.  Does not terminate when\n",
    "        the function cannot be computed using a perceptron.\"\"\"        \n",
    "        # initialize the bias and weights with random values\n",
    "        self.bias = np.random.normal()\n",
    "        self.weights = np.random.randn(self.num_inputs)\n",
    "        number_of_errors = -1\n",
    "        while number_of_errors != 0:         \n",
    "            number_of_errors = 0\n",
    "            print(\"Beginning iteration\")\n",
    "            print(\"Bias: {:.3f}\".format(self.bias))\n",
    "            print(\"Weights:\", \", \".join(\n",
    "                \"{:.3f}\".format(wt) for wt in self.weights))\n",
    "            for x in self.inputs:\n",
    "                error = f(x)-self.output(x)\n",
    "                if error:\n",
    "                    number_of_errors += 1\n",
    "                    self.bias = self.bias+eta*error\n",
    "                    self.weights = self.weights+eta*error*x\n",
    "            print(\"Number of errors:\", number_of_errors, \"\\n\")"
   ]
  },
  {
   "cell_type": "code",
   "execution_count": null,
   "metadata": {},
   "outputs": [],
   "source": [
    "def f(x): \n",
    "    \"\"\" Target function for the perceptron learning algorithm.  I've\n",
    "    chosen the NAND gate, but any function is okay, with the caveat\n",
    "    that the algorithm won't terminate if ``f`` cannot be computed by\n",
    "    a perceptron.\"\"\"    \n",
    "    return int(not (x[0] and x[1]))"
   ]
  },
  {
   "cell_type": "markdown",
   "metadata": {},
   "source": [
    "The following code will use the Perceptron class to learn how to compute the function $f$. If the function f cannot be computed by a perceptron, then this code will never terminate."
   ]
  },
  {
   "cell_type": "code",
   "execution_count": null,
   "metadata": {},
   "outputs": [],
   "source": [
    "Perceptron(2).learn(f, 0.1)"
   ]
  },
  {
   "cell_type": "code",
   "execution_count": null,
   "metadata": {},
   "outputs": [],
   "source": []
  }
 ],
 "metadata": {},
 "nbformat": 4,
 "nbformat_minor": 1
}
