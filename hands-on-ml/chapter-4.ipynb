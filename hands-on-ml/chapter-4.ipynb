{
 "cells": [
  {
   "cell_type": "markdown",
   "metadata": {},
   "source": [
    "# Chapter 4 - Training Models"
   ]
  },
  {
   "cell_type": "markdown",
   "metadata": {},
   "source": [
    "## Normal Equation"
   ]
  },
  {
   "cell_type": "code",
   "execution_count": 1,
   "metadata": {},
   "outputs": [],
   "source": [
    "# theta = (X^T . X)^(-1) . X^T . y"
   ]
  },
  {
   "cell_type": "code",
   "execution_count": 2,
   "metadata": {},
   "outputs": [
    {
     "data": {
      "text/plain": [
       "<Figure size 640x480 with 1 Axes>"
      ]
     },
     "metadata": {},
     "output_type": "display_data"
    }
   ],
   "source": [
    "#\n",
    "# Generate a dataset\n",
    "# \n",
    "\n",
    "import matplotlib\n",
    "import matplotlib.pyplot as plt\n",
    "import numpy as np\n",
    "\n",
    "\n",
    "# np.random.rand returns a sample from the uniform distribution;\n",
    "# arguments are the dimensions of the returned array\n",
    "X = 2 * np.random.rand(100, 1)\n",
    "\n",
    "# np.random.randn returns a sample from the normal distribution\n",
    "y = 4 + 3 * X + np.random.randn(100, 1)\n",
    "\n",
    "# Preview dataset\n",
    "plt.plot(X, y, 'b.')\n",
    "plt.show()"
   ]
  },
  {
   "cell_type": "markdown",
   "metadata": {},
   "source": [
    "### Using numpy"
   ]
  },
  {
   "cell_type": "code",
   "execution_count": 3,
   "metadata": {},
   "outputs": [
    {
     "data": {
      "text/plain": [
       "array([[4.0050708 ],\n",
       "       [2.99615858]])"
      ]
     },
     "execution_count": 3,
     "metadata": {},
     "output_type": "execute_result"
    }
   ],
   "source": [
    "#\n",
    "# Compute theta using normal equation\n",
    "#\n",
    "\n",
    "# Add x0 = 1 to each instance, using np.c_ to concatenate columns\n",
    "X_b = np.c_[np.ones((100, 1)), X]\n",
    "\n",
    "theta_best = np.linalg.inv(X_b.T.dot(X_b)).dot(X_b.T).dot(y)\n",
    "theta_best"
   ]
  },
  {
   "cell_type": "code",
   "execution_count": 4,
   "metadata": {},
   "outputs": [
    {
     "data": {
      "text/plain": [
       "array([[4.0050708 ],\n",
       "       [9.99738795]])"
      ]
     },
     "execution_count": 4,
     "metadata": {},
     "output_type": "execute_result"
    }
   ],
   "source": [
    "#\n",
    "# Draw line of best fit over original dataset\n",
    "#\n",
    "\n",
    "# Generate input data points for extent of dataset\n",
    "X_new = np.array([[0],[2]])\n",
    "X_new_b = np.c_[np.ones((2, 1)), X_new]\n",
    "\n",
    "# Generate 'predictions'\n",
    "y_predict = X_new_b.dot(theta_best)\n",
    "y_predict"
   ]
  },
  {
   "cell_type": "code",
   "execution_count": 5,
   "metadata": {},
   "outputs": [
    {
     "data": {
      "image/png": "[encoded data removed]",
      "text/plain": [
       "<Figure size 432x288 with 1 Axes>"
      ]
     },
     "metadata": {
      "needs_background": "light"
     },
     "output_type": "display_data"
    }
   ],
   "source": [
    "plt.plot(X_new, y_predict, \"r-\")\n",
    "plt.plot(X, y, \"b.\")\n",
    "plt.axis([0, 2, 0, 15])\n",
    "plt.show()"
   ]
  },
  {
   "cell_type": "markdown",
   "metadata": {},
   "source": [
    "### Using Scikit-Learn"
   ]
  },
  {
   "cell_type": "code",
   "execution_count": 6,
   "metadata": {},
   "outputs": [
    {
     "data": {
      "text/plain": [
       "(array([4.0050708]), array([[2.99615858]]))"
      ]
     },
     "execution_count": 6,
     "metadata": {},
     "output_type": "execute_result"
    }
   ],
   "source": [
    "from sklearn.linear_model import LinearRegression\n",
    "lin_reg = LinearRegression()\n",
    "lin_reg.fit(X, y)\n",
    "lin_reg.intercept_, lin_reg.coef_"
   ]
  },
  {
   "cell_type": "code",
   "execution_count": 7,
   "metadata": {},
   "outputs": [
    {
     "data": {
      "text/plain": [
       "array([[4.0050708 ],\n",
       "       [9.99738795]])"
      ]
     },
     "execution_count": 7,
     "metadata": {},
     "output_type": "execute_result"
    }
   ],
   "source": [
    "lin_reg.predict(X_new)"
   ]
  },
  {
   "cell_type": "markdown",
   "metadata": {},
   "source": [
    "## Gradient Descent"
   ]
  },
  {
   "cell_type": "markdown",
   "metadata": {},
   "source": [
    "### Basic algorithm"
   ]
  },
  {
   "cell_type": "code",
   "execution_count": 8,
   "metadata": {},
   "outputs": [
    {
     "data": {
      "text/plain": [
       "array([[4.0050708 ],\n",
       "       [2.99615858]])"
      ]
     },
     "execution_count": 8,
     "metadata": {},
     "output_type": "execute_result"
    }
   ],
   "source": [
    "# Learning rate and number of iterations\n",
    "eta = 0.1\n",
    "n_iterations = 1000\n",
    "\n",
    "# Number of samples\n",
    "m = 100\n",
    "\n",
    "# Initialise random weights\n",
    "theta = np.random.randn(2, 1)\n",
    "\n",
    "for iteration in range(n_iterations):\n",
    "    gradients = 2/m * X_b.T.dot(X_b.dot(theta) - y)\n",
    "    theta = theta - eta * gradients\n",
    "\n",
    "theta"
   ]
  },
  {
   "cell_type": "markdown",
   "metadata": {},
   "source": [
    "### Visualise progress over several iterations"
   ]
  },
  {
   "cell_type": "code",
   "execution_count": 9,
   "metadata": {},
   "outputs": [
    {
     "data": {
      "image/png": "[encoded data removed]",
      "text/plain": [
       "<Figure size 432x288 with 1 Axes>"
      ]
     },
     "metadata": {
      "needs_background": "light"
     },
     "output_type": "display_data"
    }
   ],
   "source": [
    "def visualise_gd(eta, n_iterations):\n",
    "    # Initialise theta with arbitrary small weights for deterministic output\n",
    "    theta = np.array([[0.1],[0.1]])\n",
    "\n",
    "    # Prepare plot\n",
    "    plt.plot(X, y, \"b.\")\n",
    "    plt.axis([0, 2, 0, 15])\n",
    "\n",
    "    # Points on X axis used to render current line of best fit\n",
    "    X_new = np.array([[0],[2]])\n",
    "    X_new_b = np.c_[np.ones((2, 1)), X_new]\n",
    "    y_predict = X_new_b.dot(theta)\n",
    "    \n",
    "    # Dashed red line is the starting point\n",
    "    plt.plot(X_new, y_predict, \"r--\")\n",
    "\n",
    "    # Draw a solid blue line for the output at each iteration\n",
    "    for iteration in range(n_iterations):\n",
    "        gradients = 2/m * X_b.T.dot(X_b.dot(theta) - y)\n",
    "        theta = theta - eta * gradients\n",
    "        y_predict = X_new_b.dot(theta)\n",
    "        plt.plot(X_new, y_predict, \"b-\")\n",
    "\n",
    "    plt.show()\n",
    "    \n",
    "visualise_gd(0.02, 10)"
   ]
  },
  {
   "cell_type": "markdown",
   "metadata": {},
   "source": [
    "### Gradient descent with various learning rates"
   ]
  },
  {
   "cell_type": "code",
   "execution_count": 10,
   "metadata": {},
   "outputs": [
    {
     "data": {
      "image/png": "[encoded data removed]",
      "text/plain": [
       "<Figure size 432x288 with 1 Axes>"
      ]
     },
     "metadata": {
      "needs_background": "light"
     },
     "output_type": "display_data"
    }
   ],
   "source": [
    "visualise_gd(0.1, 10)"
   ]
  },
  {
   "cell_type": "code",
   "execution_count": 11,
   "metadata": {},
   "outputs": [
    {
     "data": {
      "image/png": "[encoded data removed]",
      "text/plain": [
       "<Figure size 432x288 with 1 Axes>"
      ]
     },
     "metadata": {
      "needs_background": "light"
     },
     "output_type": "display_data"
    }
   ],
   "source": [
    "visualise_gd(0.45, 10)"
   ]
  },
  {
   "cell_type": "code",
   "execution_count": 12,
   "metadata": {},
   "outputs": [
    {
     "data": {
      "image/png": "[encoded data removed]",
      "text/plain": [
       "<Figure size 432x288 with 1 Axes>"
      ]
     },
     "metadata": {
      "needs_background": "light"
     },
     "output_type": "display_data"
    }
   ],
   "source": [
    "visualise_gd(0.5, 10)"
   ]
  },
  {
   "cell_type": "markdown",
   "metadata": {},
   "source": [
    "## Stochastic Gradient Descent"
   ]
  },
  {
   "cell_type": "markdown",
   "metadata": {},
   "source": [
    "### Basic algorithm"
   ]
  },
  {
   "cell_type": "code",
   "execution_count": 13,
   "metadata": {},
   "outputs": [
    {
     "data": {
      "text/plain": [
       "array([[4.00801486],\n",
       "       [3.01593335]])"
      ]
     },
     "execution_count": 13,
     "metadata": {},
     "output_type": "execute_result"
    }
   ],
   "source": [
    "n_epochs = 50\n",
    "\n",
    "# Learning schedule hyper-parameters\n",
    "t0, t1 = 5, 50\n",
    "\n",
    "def learning_schedule(t):\n",
    "    return t0 / (t + t1)\n",
    "\n",
    "theta = np.random.randn(2, 1)\n",
    "\n",
    "#\n",
    "# Note that since instances are picked randomly, some instances may be \n",
    "# picked several times per epoch while others may not be picked at all.\n",
    "# If you want to be sure that the algorithm goes through every instance\n",
    "# at each epoch, another approach is to shuffle the training set, then\n",
    "# go through it instance by instance, then shuffle it again, and so on.\n",
    "#\n",
    "# However, this generally converges more slowly.\n",
    "#\n",
    "for epoch in range(n_epochs):\n",
    "    for i in range(m):\n",
    "        random_index = np.random.randint(m)\n",
    "        xi = X_b[random_index:random_index+1]\n",
    "        yi = y[random_index:random_index+1]\n",
    "        gradients = 2 * xi.T.dot(xi.dot(theta) - yi)\n",
    "        eta = learning_schedule(epoch * m + i)\n",
    "        theta = theta - eta * gradients\n",
    "\n",
    "theta"
   ]
  },
  {
   "cell_type": "markdown",
   "metadata": {},
   "source": [
    "### Using Scikit-Learn"
   ]
  },
  {
   "cell_type": "code",
   "execution_count": 14,
   "metadata": {},
   "outputs": [
    {
     "data": {
      "text/plain": [
       "(array([3.97746997]), array([3.01585477]))"
      ]
     },
     "execution_count": 14,
     "metadata": {},
     "output_type": "execute_result"
    }
   ],
   "source": [
    "from sklearn.linear_model import SGDRegressor\n",
    "\n",
    "sgd_reg = SGDRegressor(max_iter=50, tol=1e-3, penalty=None, eta0=0.1)\n",
    "sgd_reg.fit(X, y.ravel())\n",
    "sgd_reg.intercept_, sgd_reg.coef_"
   ]
  },
  {
   "cell_type": "code",
   "execution_count": 15,
   "metadata": {},
   "outputs": [
    {
     "data": {
      "text/plain": [
       "(100,)"
      ]
     },
     "execution_count": 15,
     "metadata": {},
     "output_type": "execute_result"
    }
   ],
   "source": [
    "# For reference, numpy's ravel() function returns a contiguous flattened array\n",
    "y.ravel().shape"
   ]
  },
  {
   "cell_type": "code",
   "execution_count": 16,
   "metadata": {},
   "outputs": [
    {
     "data": {
      "text/plain": [
       "(100, 1)"
      ]
     },
     "execution_count": 16,
     "metadata": {},
     "output_type": "execute_result"
    }
   ],
   "source": [
    "# Comparing this with the shape of y, we see that the last dimension has been discarded\n",
    "y.shape"
   ]
  },
  {
   "cell_type": "markdown",
   "metadata": {},
   "source": [
    "## Mini-batch Gradient Descent"
   ]
  },
  {
   "cell_type": "code",
   "execution_count": 17,
   "metadata": {},
   "outputs": [],
   "source": [
    "# TODO: Implement an example"
   ]
  },
  {
   "cell_type": "markdown",
   "metadata": {},
   "source": [
    "## Polynomial Regression"
   ]
  },
  {
   "cell_type": "markdown",
   "metadata": {},
   "source": [
    "### Define a dataset"
   ]
  },
  {
   "cell_type": "code",
   "execution_count": 18,
   "metadata": {},
   "outputs": [
    {
     "data": {
      "image/png": "[encoded data removed]",
      "text/plain": [
       "<Figure size 432x288 with 1 Axes>"
      ]
     },
     "metadata": {
      "needs_background": "light"
     },
     "output_type": "display_data"
    }
   ],
   "source": [
    "m = 100\n",
    "X = 6 * np.random.rand(m, 1) - 3\n",
    "y = 0.5 * X**2 + X + 2 + np.random.randn(m, 1)\n",
    "plt.plot(X, y, \"b.\")\n",
    "plt.show()"
   ]
  },
  {
   "cell_type": "markdown",
   "metadata": {},
   "source": [
    "### Using Scikit-Learn"
   ]
  },
  {
   "cell_type": "code",
   "execution_count": 19,
   "metadata": {},
   "outputs": [
    {
     "data": {
      "text/plain": [
       "array([1.00655058])"
      ]
     },
     "execution_count": 19,
     "metadata": {},
     "output_type": "execute_result"
    }
   ],
   "source": [
    "from sklearn.preprocessing import PolynomialFeatures\n",
    "poly_features = PolynomialFeatures(degree=2, include_bias=False)\n",
    "X_poly = poly_features.fit_transform(X)\n",
    "X[0]"
   ]
  },
  {
   "cell_type": "code",
   "execution_count": 20,
   "metadata": {},
   "outputs": [
    {
     "data": {
      "text/plain": [
       "array([1.00655058, 1.01314406])"
      ]
     },
     "execution_count": 20,
     "metadata": {},
     "output_type": "execute_result"
    }
   ],
   "source": [
    "X_poly[0]"
   ]
  },
  {
   "cell_type": "code",
   "execution_count": 21,
   "metadata": {},
   "outputs": [
    {
     "data": {
      "text/plain": [
       "(array([2.0647644]), array([[0.96308239, 0.4979699 ]]))"
      ]
     },
     "execution_count": 21,
     "metadata": {},
     "output_type": "execute_result"
    }
   ],
   "source": [
    "lin_reg = LinearRegression()\n",
    "lin_reg.fit(X_poly, y)\n",
    "lin_reg.intercept_, lin_reg.coef_"
   ]
  },
  {
   "cell_type": "code",
   "execution_count": 22,
   "metadata": {},
   "outputs": [
    {
     "data": {
      "text/plain": [
       "array([[3.02784679]])"
      ]
     },
     "execution_count": 22,
     "metadata": {},
     "output_type": "execute_result"
    }
   ],
   "source": [
    "lin_reg.predict([[1, 0]])\n"
   ]
  },
  {
   "cell_type": "code",
   "execution_count": 23,
   "metadata": {},
   "outputs": [
    {
     "data": {
      "text/plain": [
       "array([[-3.        ],\n",
       "       [-2.93939394],\n",
       "       [-2.87878788],\n",
       "       [-2.81818182],\n",
       "       [-2.75757576],\n",
       "       [-2.6969697 ],\n",
       "       [-2.63636364],\n",
       "       [-2.57575758],\n",
       "       [-2.51515152],\n",
       "       [-2.45454545],\n",
       "       [-2.39393939],\n",
       "       [-2.33333333],\n",
       "       [-2.27272727],\n",
       "       [-2.21212121],\n",
       "       [-2.15151515],\n",
       "       [-2.09090909],\n",
       "       [-2.03030303],\n",
       "       [-1.96969697],\n",
       "       [-1.90909091],\n",
       "       [-1.84848485],\n",
       "       [-1.78787879],\n",
       "       [-1.72727273],\n",
       "       [-1.66666667],\n",
       "       [-1.60606061],\n",
       "       [-1.54545455],\n",
       "       [-1.48484848],\n",
       "       [-1.42424242],\n",
       "       [-1.36363636],\n",
       "       [-1.3030303 ],\n",
       "       [-1.24242424],\n",
       "       [-1.18181818],\n",
       "       [-1.12121212],\n",
       "       [-1.06060606],\n",
       "       [-1.        ],\n",
       "       [-0.93939394],\n",
       "       [-0.87878788],\n",
       "       [-0.81818182],\n",
       "       [-0.75757576],\n",
       "       [-0.6969697 ],\n",
       "       [-0.63636364],\n",
       "       [-0.57575758],\n",
       "       [-0.51515152],\n",
       "       [-0.45454545],\n",
       "       [-0.39393939],\n",
       "       [-0.33333333],\n",
       "       [-0.27272727],\n",
       "       [-0.21212121],\n",
       "       [-0.15151515],\n",
       "       [-0.09090909],\n",
       "       [-0.03030303],\n",
       "       [ 0.03030303],\n",
       "       [ 0.09090909],\n",
       "       [ 0.15151515],\n",
       "       [ 0.21212121],\n",
       "       [ 0.27272727],\n",
       "       [ 0.33333333],\n",
       "       [ 0.39393939],\n",
       "       [ 0.45454545],\n",
       "       [ 0.51515152],\n",
       "       [ 0.57575758],\n",
       "       [ 0.63636364],\n",
       "       [ 0.6969697 ],\n",
       "       [ 0.75757576],\n",
       "       [ 0.81818182],\n",
       "       [ 0.87878788],\n",
       "       [ 0.93939394],\n",
       "       [ 1.        ],\n",
       "       [ 1.06060606],\n",
       "       [ 1.12121212],\n",
       "       [ 1.18181818],\n",
       "       [ 1.24242424],\n",
       "       [ 1.3030303 ],\n",
       "       [ 1.36363636],\n",
       "       [ 1.42424242],\n",
       "       [ 1.48484848],\n",
       "       [ 1.54545455],\n",
       "       [ 1.60606061],\n",
       "       [ 1.66666667],\n",
       "       [ 1.72727273],\n",
       "       [ 1.78787879],\n",
       "       [ 1.84848485],\n",
       "       [ 1.90909091],\n",
       "       [ 1.96969697],\n",
       "       [ 2.03030303],\n",
       "       [ 2.09090909],\n",
       "       [ 2.15151515],\n",
       "       [ 2.21212121],\n",
       "       [ 2.27272727],\n",
       "       [ 2.33333333],\n",
       "       [ 2.39393939],\n",
       "       [ 2.45454545],\n",
       "       [ 2.51515152],\n",
       "       [ 2.57575758],\n",
       "       [ 2.63636364],\n",
       "       [ 2.6969697 ],\n",
       "       [ 2.75757576],\n",
       "       [ 2.81818182],\n",
       "       [ 2.87878788],\n",
       "       [ 2.93939394],\n",
       "       [ 3.        ]])"
      ]
     },
     "execution_count": 23,
     "metadata": {},
     "output_type": "execute_result"
    }
   ],
   "source": [
    "X_new = np.linspace(-3, 3, 100).reshape(100, 1)\n",
    "X_new"
   ]
  },
  {
   "cell_type": "code",
   "execution_count": 24,
   "metadata": {},
   "outputs": [
    {
     "data": {
      "text/plain": [
       "array([[-3.00000000e+00,  9.00000000e+00],\n",
       "       [-2.93939394e+00,  8.64003673e+00],\n",
       "       [-2.87878788e+00,  8.28741965e+00],\n",
       "       [-2.81818182e+00,  7.94214876e+00],\n",
       "       [-2.75757576e+00,  7.60422406e+00],\n",
       "       [-2.69696970e+00,  7.27364555e+00],\n",
       "       [-2.63636364e+00,  6.95041322e+00],\n",
       "       [-2.57575758e+00,  6.63452709e+00],\n",
       "       [-2.51515152e+00,  6.32598714e+00],\n",
       "       [-2.45454545e+00,  6.02479339e+00],\n",
       "       [-2.39393939e+00,  5.73094582e+00],\n",
       "       [-2.33333333e+00,  5.44444444e+00],\n",
       "       [-2.27272727e+00,  5.16528926e+00],\n",
       "       [-2.21212121e+00,  4.89348026e+00],\n",
       "       [-2.15151515e+00,  4.62901745e+00],\n",
       "       [-2.09090909e+00,  4.37190083e+00],\n",
       "       [-2.03030303e+00,  4.12213039e+00],\n",
       "       [-1.96969697e+00,  3.87970615e+00],\n",
       "       [-1.90909091e+00,  3.64462810e+00],\n",
       "       [-1.84848485e+00,  3.41689624e+00],\n",
       "       [-1.78787879e+00,  3.19651056e+00],\n",
       "       [-1.72727273e+00,  2.98347107e+00],\n",
       "       [-1.66666667e+00,  2.77777778e+00],\n",
       "       [-1.60606061e+00,  2.57943067e+00],\n",
       "       [-1.54545455e+00,  2.38842975e+00],\n",
       "       [-1.48484848e+00,  2.20477502e+00],\n",
       "       [-1.42424242e+00,  2.02846648e+00],\n",
       "       [-1.36363636e+00,  1.85950413e+00],\n",
       "       [-1.30303030e+00,  1.69788797e+00],\n",
       "       [-1.24242424e+00,  1.54361800e+00],\n",
       "       [-1.18181818e+00,  1.39669421e+00],\n",
       "       [-1.12121212e+00,  1.25711662e+00],\n",
       "       [-1.06060606e+00,  1.12488522e+00],\n",
       "       [-1.00000000e+00,  1.00000000e+00],\n",
       "       [-9.39393939e-01,  8.82460973e-01],\n",
       "       [-8.78787879e-01,  7.72268136e-01],\n",
       "       [-8.18181818e-01,  6.69421488e-01],\n",
       "       [-7.57575758e-01,  5.73921028e-01],\n",
       "       [-6.96969697e-01,  4.85766758e-01],\n",
       "       [-6.36363636e-01,  4.04958678e-01],\n",
       "       [-5.75757576e-01,  3.31496786e-01],\n",
       "       [-5.15151515e-01,  2.65381084e-01],\n",
       "       [-4.54545455e-01,  2.06611570e-01],\n",
       "       [-3.93939394e-01,  1.55188246e-01],\n",
       "       [-3.33333333e-01,  1.11111111e-01],\n",
       "       [-2.72727273e-01,  7.43801653e-02],\n",
       "       [-2.12121212e-01,  4.49954086e-02],\n",
       "       [-1.51515152e-01,  2.29568411e-02],\n",
       "       [-9.09090909e-02,  8.26446281e-03],\n",
       "       [-3.03030303e-02,  9.18273646e-04],\n",
       "       [ 3.03030303e-02,  9.18273646e-04],\n",
       "       [ 9.09090909e-02,  8.26446281e-03],\n",
       "       [ 1.51515152e-01,  2.29568411e-02],\n",
       "       [ 2.12121212e-01,  4.49954086e-02],\n",
       "       [ 2.72727273e-01,  7.43801653e-02],\n",
       "       [ 3.33333333e-01,  1.11111111e-01],\n",
       "       [ 3.93939394e-01,  1.55188246e-01],\n",
       "       [ 4.54545455e-01,  2.06611570e-01],\n",
       "       [ 5.15151515e-01,  2.65381084e-01],\n",
       "       [ 5.75757576e-01,  3.31496786e-01],\n",
       "       [ 6.36363636e-01,  4.04958678e-01],\n",
       "       [ 6.96969697e-01,  4.85766758e-01],\n",
       "       [ 7.57575758e-01,  5.73921028e-01],\n",
       "       [ 8.18181818e-01,  6.69421488e-01],\n",
       "       [ 8.78787879e-01,  7.72268136e-01],\n",
       "       [ 9.39393939e-01,  8.82460973e-01],\n",
       "       [ 1.00000000e+00,  1.00000000e+00],\n",
       "       [ 1.06060606e+00,  1.12488522e+00],\n",
       "       [ 1.12121212e+00,  1.25711662e+00],\n",
       "       [ 1.18181818e+00,  1.39669421e+00],\n",
       "       [ 1.24242424e+00,  1.54361800e+00],\n",
       "       [ 1.30303030e+00,  1.69788797e+00],\n",
       "       [ 1.36363636e+00,  1.85950413e+00],\n",
       "       [ 1.42424242e+00,  2.02846648e+00],\n",
       "       [ 1.48484848e+00,  2.20477502e+00],\n",
       "       [ 1.54545455e+00,  2.38842975e+00],\n",
       "       [ 1.60606061e+00,  2.57943067e+00],\n",
       "       [ 1.66666667e+00,  2.77777778e+00],\n",
       "       [ 1.72727273e+00,  2.98347107e+00],\n",
       "       [ 1.78787879e+00,  3.19651056e+00],\n",
       "       [ 1.84848485e+00,  3.41689624e+00],\n",
       "       [ 1.90909091e+00,  3.64462810e+00],\n",
       "       [ 1.96969697e+00,  3.87970615e+00],\n",
       "       [ 2.03030303e+00,  4.12213039e+00],\n",
       "       [ 2.09090909e+00,  4.37190083e+00],\n",
       "       [ 2.15151515e+00,  4.62901745e+00],\n",
       "       [ 2.21212121e+00,  4.89348026e+00],\n",
       "       [ 2.27272727e+00,  5.16528926e+00],\n",
       "       [ 2.33333333e+00,  5.44444444e+00],\n",
       "       [ 2.39393939e+00,  5.73094582e+00],\n",
       "       [ 2.45454545e+00,  6.02479339e+00],\n",
       "       [ 2.51515152e+00,  6.32598714e+00],\n",
       "       [ 2.57575758e+00,  6.63452709e+00],\n",
       "       [ 2.63636364e+00,  6.95041322e+00],\n",
       "       [ 2.69696970e+00,  7.27364555e+00],\n",
       "       [ 2.75757576e+00,  7.60422406e+00],\n",
       "       [ 2.81818182e+00,  7.94214876e+00],\n",
       "       [ 2.87878788e+00,  8.28741965e+00],\n",
       "       [ 2.93939394e+00,  8.64003673e+00],\n",
       "       [ 3.00000000e+00,  9.00000000e+00]])"
      ]
     },
     "execution_count": 24,
     "metadata": {},
     "output_type": "execute_result"
    }
   ],
   "source": [
    "X_new_poly = poly_features.transform(X_new)\n",
    "X_new_poly"
   ]
  },
  {
   "cell_type": "code",
   "execution_count": 25,
   "metadata": {},
   "outputs": [
    {
     "data": {
      "text/plain": [
       "array([[3.65724637],\n",
       "       [3.53636412],\n",
       "       [3.41914006],\n",
       "       [3.30557418],\n",
       "       [3.19566648],\n",
       "       [3.08941696],\n",
       "       [2.98682562],\n",
       "       [2.88789246],\n",
       "       [2.79261748],\n",
       "       [2.70100069],\n",
       "       [2.61304207],\n",
       "       [2.52874164],\n",
       "       [2.44809938],\n",
       "       [2.37111531],\n",
       "       [2.29778942],\n",
       "       [2.22812171],\n",
       "       [2.16211218],\n",
       "       [2.09976084],\n",
       "       [2.04106767],\n",
       "       [1.98603269],\n",
       "       [1.93465588],\n",
       "       [1.88693726],\n",
       "       [1.84287682],\n",
       "       [1.80247456],\n",
       "       [1.76573048],\n",
       "       [1.73264458],\n",
       "       [1.70321686],\n",
       "       [1.67744733],\n",
       "       [1.65533597],\n",
       "       [1.6368828 ],\n",
       "       [1.62208781],\n",
       "       [1.61095099],\n",
       "       [1.60347236],\n",
       "       [1.59965192],\n",
       "       [1.59948965],\n",
       "       [1.60298556],\n",
       "       [1.61013965],\n",
       "       [1.62095193],\n",
       "       [1.63542239],\n",
       "       [1.65355102],\n",
       "       [1.67533784],\n",
       "       [1.70078284],\n",
       "       [1.72988602],\n",
       "       [1.76264738],\n",
       "       [1.79906693],\n",
       "       [1.83914465],\n",
       "       [1.88288056],\n",
       "       [1.93027464],\n",
       "       [1.98132691],\n",
       "       [2.03603736],\n",
       "       [2.09440599],\n",
       "       [2.1564328 ],\n",
       "       [2.22211779],\n",
       "       [2.29146096],\n",
       "       [2.36446232],\n",
       "       [2.44112185],\n",
       "       [2.52143957],\n",
       "       [2.60541547],\n",
       "       [2.69304954],\n",
       "       [2.7843418 ],\n",
       "       [2.87929224],\n",
       "       [2.97790087],\n",
       "       [3.08016767],\n",
       "       [3.18609265],\n",
       "       [3.29567582],\n",
       "       [3.40891717],\n",
       "       [3.52581669],\n",
       "       [3.6463744 ],\n",
       "       [3.77059029],\n",
       "       [3.89846436],\n",
       "       [4.02999661],\n",
       "       [4.16518705],\n",
       "       [4.30403566],\n",
       "       [4.44654246],\n",
       "       [4.59270743],\n",
       "       [4.74253059],\n",
       "       [4.89601193],\n",
       "       [5.05315145],\n",
       "       [5.21394915],\n",
       "       [5.37840503],\n",
       "       [5.54651909],\n",
       "       [5.71829134],\n",
       "       [5.89372176],\n",
       "       [6.07281037],\n",
       "       [6.25555716],\n",
       "       [6.44196213],\n",
       "       [6.63202528],\n",
       "       [6.82574661],\n",
       "       [7.02312612],\n",
       "       [7.22416381],\n",
       "       [7.42885969],\n",
       "       [7.63721374],\n",
       "       [7.84922598],\n",
       "       [8.06489639],\n",
       "       [8.28422499],\n",
       "       [8.50721177],\n",
       "       [8.73385673],\n",
       "       [8.96415988],\n",
       "       [9.1981212 ],\n",
       "       [9.4357407 ]])"
      ]
     },
     "execution_count": 25,
     "metadata": {},
     "output_type": "execute_result"
    }
   ],
   "source": [
    "y_new = lin_reg.predict(X_new_poly)\n",
    "y_new"
   ]
  },
  {
   "cell_type": "code",
   "execution_count": 26,
   "metadata": {},
   "outputs": [
    {
     "data": {
      "image/png": "[encoded data removed]",
      "text/plain": [
       "<Figure size 432x288 with 1 Axes>"
      ]
     },
     "metadata": {
      "needs_background": "light"
     },
     "output_type": "display_data"
    }
   ],
   "source": [
    "plt.plot(X, y, \"b.\")\n",
    "plt.plot(X_new, y_new, \"r-\", linewidth=2, label=\"Predictions\")\n",
    "plt.legend(loc=\"upper left\")\n",
    "plt.show()"
   ]
  },
  {
   "cell_type": "markdown",
   "metadata": {},
   "source": [
    "## Learning Curves"
   ]
  },
  {
   "cell_type": "code",
   "execution_count": 39,
   "metadata": {},
   "outputs": [
    {
     "data": {
      "image/png": "[encoded data removed]",
      "text/plain": [
       "<Figure size 432x288 with 1 Axes>"
      ]
     },
     "metadata": {
      "needs_background": "light"
     },
     "output_type": "display_data"
    }
   ],
   "source": [
    "from sklearn.metrics import mean_squared_error\n",
    "from sklearn.model_selection import train_test_split\n",
    "\n",
    "def plot_learning_curve(model, X, y):\n",
    "    X_train, X_val, y_train, y_val = train_test_split(X, y, test_size=0.2)\n",
    "    train_errors, val_errors = [], []\n",
    "    for m in range(1, len(X_train)):\n",
    "        model.fit(X_train[:m], y_train[:m])\n",
    "        y_train_predict = model.predict(X_train[:m])\n",
    "        y_val_predict = model.predict(X_val)\n",
    "        train_errors.append(mean_squared_error(y_train_predict, y_train[:m]))\n",
    "        val_errors.append(mean_squared_error(y_val_predict, y_val))\n",
    "    plt.axis([0, 80, 0, 8])\n",
    "    plt.plot(np.sqrt(train_errors), \"r-+\", linewidth=2, label=\"train\")\n",
    "    plt.plot(np.sqrt(val_errors), \"b-\", linewidth=3, label=\"val\")\n",
    "    plt.legend(loc=\"upper right\")\n",
    "    plt.show()\n",
    "\n",
    "lin_reg = LinearRegression()\n",
    "plot_learning_curve(lin_reg, X, y)"
   ]
  },
  {
   "cell_type": "markdown",
   "metadata": {},
   "source": [
    "### 10th degree polynomial"
   ]
  },
  {
   "cell_type": "code",
   "execution_count": 41,
   "metadata": {},
   "outputs": [
    {
     "data": {
      "image/png": "[encoded data removed]",
      "text/plain": [
       "<Figure size 432x288 with 1 Axes>"
      ]
     },
     "metadata": {
      "needs_background": "light"
     },
     "output_type": "display_data"
    }
   ],
   "source": [
    "from sklearn.pipeline import Pipeline\n",
    "\n",
    "polynomial_regression = Pipeline((\n",
    "    (\"poly_features\", PolynomialFeatures(degree=10, include_bias=False)),\n",
    "    (\"sgd_reg\", LinearRegression())\n",
    "))\n",
    "\n",
    "plot_learning_curve(polynomial_regression, X, y)"
   ]
  },
  {
   "cell_type": "code",
   "execution_count": null,
   "metadata": {},
   "outputs": [],
   "source": []
  },
  {
   "cell_type": "code",
   "execution_count": null,
   "metadata": {},
   "outputs": [],
   "source": []
  },
  {
   "cell_type": "code",
   "execution_count": null,
   "metadata": {},
   "outputs": [],
   "source": []
  }
 ],
 "metadata": {
  "kernelspec": {
   "display_name": "Python 3",
   "language": "python",
   "name": "python3"
  },
  "language_info": {
   "codemirror_mode": {
    "name": "ipython",
    "version": 3
   },
   "file_extension": ".py",
   "mimetype": "text/x-python",
   "name": "python",
   "nbconvert_exporter": "python",
   "pygments_lexer": "ipython3",
   "version": "3.6.4"
  }
 },
 "nbformat": 4,
 "nbformat_minor": 2
}
